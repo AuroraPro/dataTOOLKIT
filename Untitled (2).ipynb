{
 "cells": [
  {
   "cell_type": "markdown",
   "id": "7cd47027-f87b-41ea-bc0b-1ec9bbef8887",
   "metadata": {},
   "source": [
    "1. Demonstrate three different methods for creating identical 2D arrays in NumPy Provide the code for each method and the final output after each method"
   ]
  },
  {
   "cell_type": "code",
   "execution_count": 1,
   "id": "d1ae0524-63b3-438d-960b-7b8cc6395304",
   "metadata": {},
   "outputs": [
    {
     "name": "stdout",
     "output_type": "stream",
     "text": [
      "Array using np.array():\n",
      "[[1 2 3]\n",
      " [4 5 6]]\n",
      "\n",
      "\n",
      "Array using np.full():\n",
      "[[7 7 7]\n",
      " [7 7 7]]\n",
      "\n",
      "\n",
      "Array using np.ones() with float data type:\n",
      "[[10. 10. 10.]\n",
      " [10. 10. 10.]]\n"
     ]
    }
   ],
   "source": [
    "# Method 1: Using np.array() with a list of lists\n",
    "import numpy as np\n",
    "# Define the data as a list of lists\n",
    "data = [[1, 2, 3], [4, 5, 6]]\n",
    "# Create the array using np.array()\n",
    "arr1 = np.array(data)\n",
    "# Print the array\n",
    "print(\"Array using np.array():\")\n",
    "print(arr1)\n",
    "print(\"\\n\")\n",
    "\n",
    "\n",
    "\n",
    "\n",
    "# Method 2: Using np.full()\n",
    "import numpy as np\n",
    "# Define the shape of the array (number of rows and columns)\n",
    "shape = (2, 3)\n",
    "# Specify the fill value\n",
    "fill_value = 7\n",
    "# Create the array using np.full()\n",
    "arr2 = np.full(shape, fill_value)\n",
    "# Print the array\n",
    "print(\"Array using np.full():\")\n",
    "print(arr2)\n",
    "print(\"\\n\")\n",
    "\n",
    "\n",
    "\n",
    "\n",
    "# Method 3: Using np.ones() with a different data type\n",
    "import numpy as np\n",
    "# Define the shape of the array\n",
    "shape = (2, 3)\n",
    "# Specify the data type as float\n",
    "data_type = float\n",
    "# Create the array using np.ones() with float data type and multiply by 10\n",
    "arr3 = np.ones(shape, dtype=data_type) * 10\n",
    "# Print the array\n",
    "print(\"Array using np.ones() with float data type:\")\n",
    "print(arr3)"
   ]
  },
  {
   "cell_type": "markdown",
   "id": "10412ddb-c567-4e43-87b5-bf33e4bfee8f",
   "metadata": {},
   "source": [
    "______________________________________________________________________________________________________________________________"
   ]
  },
  {
   "cell_type": "markdown",
   "id": "2871fab8-3b4f-4de0-b2b4-c5c82b235486",
   "metadata": {},
   "source": [
    "2. Using the Numpy function, generate an array of wRR evenly spaced numPers Petween w and wR and Reshape that wD array into a 2D array"
   ]
  },
  {
   "cell_type": "code",
   "execution_count": 2,
   "id": "c4e5490b-ac8a-4fd9-b7f2-1dff38cf52e0",
   "metadata": {},
   "outputs": [
    {
     "name": "stdout",
     "output_type": "stream",
     "text": [
      "Original array:\n",
      " [ 1.          1.09090909  1.18181818  1.27272727  1.36363636  1.45454545\n",
      "  1.54545455  1.63636364  1.72727273  1.81818182  1.90909091  2.\n",
      "  2.09090909  2.18181818  2.27272727  2.36363636  2.45454545  2.54545455\n",
      "  2.63636364  2.72727273  2.81818182  2.90909091  3.          3.09090909\n",
      "  3.18181818  3.27272727  3.36363636  3.45454545  3.54545455  3.63636364\n",
      "  3.72727273  3.81818182  3.90909091  4.          4.09090909  4.18181818\n",
      "  4.27272727  4.36363636  4.45454545  4.54545455  4.63636364  4.72727273\n",
      "  4.81818182  4.90909091  5.          5.09090909  5.18181818  5.27272727\n",
      "  5.36363636  5.45454545  5.54545455  5.63636364  5.72727273  5.81818182\n",
      "  5.90909091  6.          6.09090909  6.18181818  6.27272727  6.36363636\n",
      "  6.45454545  6.54545455  6.63636364  6.72727273  6.81818182  6.90909091\n",
      "  7.          7.09090909  7.18181818  7.27272727  7.36363636  7.45454545\n",
      "  7.54545455  7.63636364  7.72727273  7.81818182  7.90909091  8.\n",
      "  8.09090909  8.18181818  8.27272727  8.36363636  8.45454545  8.54545455\n",
      "  8.63636364  8.72727273  8.81818182  8.90909091  9.          9.09090909\n",
      "  9.18181818  9.27272727  9.36363636  9.45454545  9.54545455  9.63636364\n",
      "  9.72727273  9.81818182  9.90909091 10.        ]\n",
      "\n",
      "Reshaped array:\n",
      " [[ 1.          1.09090909  1.18181818  1.27272727  1.36363636  1.45454545\n",
      "   1.54545455  1.63636364  1.72727273  1.81818182]\n",
      " [ 1.90909091  2.          2.09090909  2.18181818  2.27272727  2.36363636\n",
      "   2.45454545  2.54545455  2.63636364  2.72727273]\n",
      " [ 2.81818182  2.90909091  3.          3.09090909  3.18181818  3.27272727\n",
      "   3.36363636  3.45454545  3.54545455  3.63636364]\n",
      " [ 3.72727273  3.81818182  3.90909091  4.          4.09090909  4.18181818\n",
      "   4.27272727  4.36363636  4.45454545  4.54545455]\n",
      " [ 4.63636364  4.72727273  4.81818182  4.90909091  5.          5.09090909\n",
      "   5.18181818  5.27272727  5.36363636  5.45454545]\n",
      " [ 5.54545455  5.63636364  5.72727273  5.81818182  5.90909091  6.\n",
      "   6.09090909  6.18181818  6.27272727  6.36363636]\n",
      " [ 6.45454545  6.54545455  6.63636364  6.72727273  6.81818182  6.90909091\n",
      "   7.          7.09090909  7.18181818  7.27272727]\n",
      " [ 7.36363636  7.45454545  7.54545455  7.63636364  7.72727273  7.81818182\n",
      "   7.90909091  8.          8.09090909  8.18181818]\n",
      " [ 8.27272727  8.36363636  8.45454545  8.54545455  8.63636364  8.72727273\n",
      "   8.81818182  8.90909091  9.          9.09090909]\n",
      " [ 9.18181818  9.27272727  9.36363636  9.45454545  9.54545455  9.63636364\n",
      "   9.72727273  9.81818182  9.90909091 10.        ]]\n"
     ]
    }
   ],
   "source": [
    "import numpy as np\n",
    "\n",
    "# Generate 100 evenly spaced numbers between 1 and 10\n",
    "arr = np.linspace(1, 10, 100)\n",
    "\n",
    "# Reshape the 1D array into a 2D array with 10 rows\n",
    "reshaped_arr = arr.reshape(10, -1)\n",
    "\n",
    "# Print the original and reshaped arrays\n",
    "print(\"Original array:\\n\", arr)\n",
    "print(\"\\nReshaped array:\\n\", reshaped_arr)"
   ]
  },
  {
   "cell_type": "markdown",
   "id": "329a7d7f-27e9-4fcf-9772-2887a681dbd0",
   "metadata": {},
   "source": [
    "______________________________________________________________________________________________________________________________"
   ]
  },
  {
   "cell_type": "markdown",
   "id": "31e17268-b1f0-493c-9fe4-b8a33e1d0f73",
   "metadata": {},
   "source": [
    "3. Explain the following terms \n",
    "The difference in npYarray, npYasarray and npYasanyarrayX\n",
    "The difference between Deep copy and shallow copyX"
   ]
  },
  {
   "cell_type": "markdown",
   "id": "e2ebeecc-159d-426a-835a-5a9a42cbc7db",
   "metadata": {},
   "source": [
    "np.array:\n",
    "This is the most versatile function. It always creates a new NumPy array, regardless of the input type.\n",
    "You can specify additional parameters like data type (dtype) and memory layout (order) for the new array.\n",
    "By default, it creates a copy of the input data, even if the input is already a NumPy array.\n",
    "\n",
    "np.asarray:\n",
    "This function tries to be more efficient. It creates a new NumPy array only if the input is not already a NumPy array.\n",
    "If the input is a compatible array-like object (list, tuple, etc.), it will use that object's memory for the new array (avoiding an unnecessary copy).\n",
    "It offers fewer customization options compared to np.array.\n",
    "\n",
    "np.asanyarray:\n",
    "This function is the most flexible but also the least selective. It will convert any input that can be interpreted as a NumPy array to a NumPy array.\n",
    "It includes scalars, nested sequences (lists of lists), and even subclasses of ndarray (specialized NumPy arrays).\n",
    "Similar to np.asarray, it avoids copying data if possible.\n",
    "It has limited control over the output array's properties like data type or memory layout."
   ]
  },
  {
   "cell_type": "markdown",
   "id": "dc16e278-8acf-475a-b978-8bd60c360a8e",
   "metadata": {},
   "source": [
    "Shallow Copy:\n",
    "Creates a new object that has the same structure (fields or attributes) as the original object.\n",
    "However, it only copies the references to the original object's data, not the actual data itself.\n",
    "Any changes made to the copied object's data will also be reflected in the original object, since they both point to the same underlying data.\n",
    "\n",
    "\n",
    "Deep Copy:\n",
    "Creates a completely new and independent object with its own copy of the original object's data.\n",
    "This includes copying any nested objects or data structures within the original object.\n",
    "Changes made to the copied object's data will not affect the original object, as they have separate copies of the data."
   ]
  },
  {
   "cell_type": "markdown",
   "id": "a2c0c313-d495-4b29-ba92-d095228abe2a",
   "metadata": {},
   "source": [
    "_______________________________________________________________________________________________________________________________"
   ]
  },
  {
   "cell_type": "markdown",
   "id": "fa6e0000-8376-43ce-b41d-95701e0e8189",
   "metadata": {},
   "source": [
    "3. Generate a x array with random floating-point numPers Petween . and 2R 9hen, round each numPer in\n",
    "the array to 2 decimal places"
   ]
  },
  {
   "cell_type": "code",
   "execution_count": 3,
   "id": "9b841294-b126-4968-b523-5b463b7e310b",
   "metadata": {},
   "outputs": [
    {
     "name": "stdout",
     "output_type": "stream",
     "text": [
      "[[15.63 15.22 14.39]\n",
      " [13.47  9.05  7.2 ]\n",
      " [ 7.18 19.29 13.01]]\n"
     ]
    }
   ],
   "source": [
    "import numpy as np\n",
    "\n",
    "# Generate a 3x3 array with random floating-point numbers between 5 and 20\n",
    "array = np.random.rand(3, 3) * (20 - 5) + 5\n",
    "\n",
    "# Round each number in the array to 2 decimal places\n",
    "rounded_array = np.around(array, decimals=2)\n",
    "\n",
    "# Print the rounded array\n",
    "print(rounded_array)\n"
   ]
  },
  {
   "cell_type": "markdown",
   "id": "e2c86358-53e6-4180-9646-6b36e665a740",
   "metadata": {},
   "source": [
    "_______________________________________________________________________________________________________________________________"
   ]
  },
  {
   "cell_type": "markdown",
   "id": "84577cd3-396b-4f8d-b4e7-c85d3a1f60fc",
   "metadata": {},
   "source": [
    "5. Create a NumPy array with random integers Petween w and wR of shape (., )) After creating the array\n",
    "perform the following operations:\n",
    "\n",
    " a)Extract all even integers from array.\n",
    "\n",
    " b)Extract all odd integers from arrayX"
   ]
  },
  {
   "cell_type": "code",
   "execution_count": 4,
   "id": "ea5a17e2-df5b-43bb-8324-3163c9b0b680",
   "metadata": {},
   "outputs": [
    {
     "name": "stdout",
     "output_type": "stream",
     "text": [
      "Original array:\n",
      " [[ 4  7  7  9  9  8]\n",
      " [ 8  7  1  9  6  8]\n",
      " [ 4  9 10  7  9  5]\n",
      " [ 6  5  8 10  3  2]\n",
      " [ 7 10  1  5  9  8]]\n",
      "\n",
      "Even integers:\n",
      " [ 4  8  8  6  8  4 10  6  8 10  2 10  8]\n"
     ]
    }
   ],
   "source": [
    "# a)\n",
    "import numpy as np\n",
    "\n",
    "# Create a NumPy array with random integers between 1 and 10 of shape (5, 6)\n",
    "arr = np.random.randint(1, 11, size=(5, 6))\n",
    "\n",
    "# Extract all even integers from the array (boolean indexing)\n",
    "even_integers = arr[arr % 2 == 0]\n",
    "\n",
    "# Print the original array\n",
    "print(\"Original array:\\n\", arr)\n",
    "\n",
    "# Print the even integers\n",
    "print(\"\\nEven integers:\\n\", even_integers)\n"
   ]
  },
  {
   "cell_type": "code",
   "execution_count": 5,
   "id": "1b1ba425-1b38-47ed-96b7-e2f65c709bce",
   "metadata": {},
   "outputs": [
    {
     "name": "stdout",
     "output_type": "stream",
     "text": [
      "Original array:\n",
      " [[ 9  4  6  5  1  5]\n",
      " [ 2  1  3  1  8 10]\n",
      " [ 4 10 10  3  5  4]\n",
      " [ 9  1  2  8  2  3]\n",
      " [ 2  7  2  1  5  8]]\n",
      "\n",
      "Odd integers:\n",
      " [9 5 1 5 1 3 1 3 5 9 1 3 7 1 5]\n"
     ]
    }
   ],
   "source": [
    "import numpy as np\n",
    "\n",
    "# Create a NumPy array with random integers between 1 and 10 of shape (5, 6)\n",
    "arr = np.random.randint(1, 11, size=(5, 6))\n",
    "\n",
    "# Extract all odd integers from the array (boolean indexing)\n",
    "odd_integers = arr[arr % 2 != 0]  # Check for not even (remainder when divided by 2 is not 0)\n",
    "\n",
    "# Print the original array\n",
    "print(\"Original array:\\n\", arr)\n",
    "\n",
    "# Print the odd integers\n",
    "print(\"\\nOdd integers:\\n\", odd_integers)\n"
   ]
  },
  {
   "cell_type": "markdown",
   "id": "500090b1-8aa3-4819-adff-037130ec098b",
   "metadata": {},
   "source": [
    "_________________________________________________________________________________________________________"
   ]
  },
  {
   "cell_type": "markdown",
   "id": "cad97bc5-878e-47a5-8d0a-db4678da446f",
   "metadata": {},
   "source": [
    "6. Create a D NumPy array of shape (, , ) containing random integers Petween w and wR Perform the\n",
    "following operations:\n",
    "\n",
    " a) Find the indices of the maximum values along each depth level (third axis).\n",
    "\n",
    " b) Perform element\u001c",
    "wise multiplication of between both arrayX"
   ]
  },
  {
   "cell_type": "code",
   "execution_count": 7,
   "id": "5fa8d0c7-09ee-4fe7-89d6-354731e62aae",
   "metadata": {},
   "outputs": [
    {
     "name": "stdout",
     "output_type": "stream",
     "text": [
      "Array 1:\n",
      "[[[ 9  6  1]\n",
      "  [ 9  7  3]\n",
      "  [ 9  8  9]]\n",
      "\n",
      " [[ 2  7  7]\n",
      "  [ 3  7  2]\n",
      "  [ 8  5  2]]\n",
      "\n",
      " [[ 1  8 10]\n",
      "  [ 3  8  9]\n",
      "  [10  6  8]]]\n",
      "\n",
      "Array 2:\n",
      "[[[ 2 10  2]\n",
      "  [10  7  1]\n",
      "  [ 1  7  5]]\n",
      "\n",
      " [[ 2  3  1]\n",
      "  [10  4 10]\n",
      "  [ 3  2 10]]\n",
      "\n",
      " [[ 8  9  4]\n",
      "  [ 6 10  1]\n",
      "  [ 7  2  6]]]\n",
      "\n",
      "Element-wise Multiplication:\n",
      "[[[18 60  2]\n",
      "  [90 49  3]\n",
      "  [ 9 56 45]]\n",
      "\n",
      " [[ 4 21  7]\n",
      "  [30 28 20]\n",
      "  [24 10 20]]\n",
      "\n",
      " [[ 8 72 40]\n",
      "  [18 80  9]\n",
      "  [70 12 48]]]\n"
     ]
    }
   ],
   "source": [
    "# b)\n",
    "import numpy as np\n",
    "\n",
    "# Generate two random arrays with integers between 1 and 10\n",
    "array1 = np.random.randint(1, 11, size=(3, 3, 3))\n",
    "array2 = np.random.randint(1, 11, size=(3, 3, 3))\n",
    "\n",
    "# Perform element-wise multiplication\n",
    "result = array1 * array2\n",
    "\n",
    "# Print the original arrays and the element-wise multiplication result\n",
    "print(\"Array 1:\")\n",
    "print(array1)\n",
    "print(\"\\nArray 2:\")\n",
    "print(array2)\n",
    "print(\"\\nElement-wise Multiplication:\")\n",
    "print(result)\n"
   ]
  },
  {
   "cell_type": "markdown",
   "id": "59ff3882-60c0-4ea8-9432-571c516f3223",
   "metadata": {},
   "source": [
    "______________________________________________________________________________________________________________________________"
   ]
  },
  {
   "cell_type": "markdown",
   "id": "b7b55114-17fa-4f2f-916f-a747a4a0d8b1",
   "metadata": {},
   "source": [
    "7. Clean and transform the 'Phone' column in the sample dataset to remove non-numeric characters and\n",
    "convert it to a numeric data type Also display the taPle attriPutes and data types of each column"
   ]
  },
  {
   "cell_type": "code",
   "execution_count": 8,
   "id": "2d9c8c09-1da4-454a-bc7c-5f9d5b1d891f",
   "metadata": {},
   "outputs": [
    {
     "name": "stdout",
     "output_type": "stream",
     "text": [
      "<class 'pandas.core.frame.DataFrame'>\n",
      "RangeIndex: 1000 entries, 0 to 999\n",
      "Data columns (total 10 columns):\n",
      " #   Column         Non-Null Count  Dtype  \n",
      "---  ------         --------------  -----  \n",
      " 0   Index          1000 non-null   int64  \n",
      " 1   User Id        1000 non-null   object \n",
      " 2   First Name     1000 non-null   object \n",
      " 3   Last Name      1000 non-null   object \n",
      " 4   Gender         1000 non-null   object \n",
      " 5   Email          1000 non-null   object \n",
      " 6   Phone          0 non-null      float64\n",
      " 7   Date of birth  1000 non-null   object \n",
      " 8   Job Title      1000 non-null   object \n",
      " 9   Salary         1000 non-null   int64  \n",
      "dtypes: float64(1), int64(2), object(7)\n",
      "memory usage: 78.2+ KB\n",
      "None\n"
     ]
    }
   ],
   "source": [
    "import pandas as pd\n",
    "import re\n",
    "\n",
    "\n",
    "try:\n",
    "  # Read the CSV file\n",
    "  df = pd.read_csv('PeopleData.csv')\n",
    "except FileNotFoundError:\n",
    "  print(\"Error: File 'data.csv' not found. Please check the file path.\")\n",
    "  exit()\n",
    "\n",
    "# Clean phone numbers (handle non-strings and remove non-numeric characters)\n",
    "def clean_phone_number(phone_number):\n",
    "  \"\"\"Cleans a phone number string by removing non-numeric characters.\n",
    "\n",
    "  Args:\n",
    "      phone_number: The phone number to clean (can be string or None).\n",
    "\n",
    "  Returns:\n",
    "      The cleaned phone number (string) or None if the input is not a string.\n",
    "  \"\"\"\n",
    "  if pd.api.types.is_string_dtype(phone_number):  # Check if it's a string\n",
    "    return re.sub(r\"[^\\d]\", \"\", phone_number)  # Remove non-digits if string\n",
    "  else:\n",
    "    return None  # Return None for non-strings (avoid conversion errors)\n",
    "\n",
    "df['Phone'] = df['Phone'].apply(clean_phone_number)\n",
    "\n",
    "# Handle potential conversion errors (safer approach)\n",
    "try:\n",
    "  # Attempt conversion to numeric data type (e.g., int or float)\n",
    "  df['Phone'] = pd.to_numeric(df['Phone'], errors='coerce')  # Coerce errors to NaN\n",
    "except pd.errors.ParserError:\n",
    "  print(\"Warning: Encountered errors during conversion. Some values might be NaN.\")\n",
    "\n",
    "# Display table attributes and data types\n",
    "print(df.info())\n"
   ]
  },
  {
   "cell_type": "markdown",
   "id": "f419f01b-c233-4b7e-984e-cea60746be4b",
   "metadata": {},
   "source": [
    "____________________________________________________________________________________________________________________________"
   ]
  },
  {
   "cell_type": "markdown",
   "id": "fce55671-c909-4d56-af00-87e01b37cbcc",
   "metadata": {},
   "source": [
    "8. Perform the following tas\\s using people dataset:\n",
    "\n",
    " a) Read the 'dataYcsv' file using pandas, skipping the first 50 rows.\n",
    "\n",
    " b) Only read the columns: 'Last Name', ‘Gender’,’Email’,‘Phone’ and ‘Salary’ from the file.\n",
    "\n",
    " c) Display the first 10 rows of the filtered dataset.\n",
    "\n",
    " d) Extract the ‘Salary’' column as a Series and display its last 5 valuesX"
   ]
  },
  {
   "cell_type": "code",
   "execution_count": 9,
   "id": "dce908b7-bd52-4967-9428-4402dd787f33",
   "metadata": {},
   "outputs": [
    {
     "name": "stdout",
     "output_type": "stream",
     "text": [
      "   50  afF3018e9cdd1dA     George  Mercer  Female  \\\n",
      "0  51  CccE5DAb6E288e5         Jo  Zavala    Male   \n",
      "1  52  DfBDc3621D4bcec     Joshua   Carey  Female   \n",
      "2  53  f55b0A249f5E44D     Rickey   Hobbs  Female   \n",
      "3  54  Ed71DcfaBFd0beE      Robyn  Reilly    Male   \n",
      "4  55  FDaFD0c3f5387EC  Christina  Conrad    Male   \n",
      "\n",
      "  douglascontreras@example.net    +1-326-669-0118x4341  11-09-1941  \\\n",
      "0         pamela64@example.net  001-859-448-9935x54536  23-11-1992   \n",
      "1    dianashepherd@example.net    001-274-739-8470x814  07-01-1915   \n",
      "2    ingramtiffany@example.org        241.179.9509x498  01-07-1910   \n",
      "3   carriecrawford@example.org       207.797.8345x6177  27-07-1982   \n",
      "4   fuentesclaudia@example.net    001-599-042-7428x143  06-01-1998   \n",
      "\n",
      "  Human resources officer   70000  \n",
      "0            Nurse, adult   80000  \n",
      "1     Seismic interpreter   70000  \n",
      "2               Barrister   60000  \n",
      "3    Engineer, structural  100000  \n",
      "4         Producer, radio   50000  \n"
     ]
    }
   ],
   "source": [
    "import pandas as pd\n",
    "\n",
    "\n",
    "try:\n",
    "  # Read the CSV file, skipping the first 50 rows\n",
    "  df = pd.read_csv('PeopleData.csv', skiprows=50)\n",
    "except FileNotFoundError:\n",
    "  print(\"Error: File 'data.csv' not found. Please check the file path.\")\n",
    "  exit()\n",
    "\n",
    "# Display a sample of the DataFrame (optional)\n",
    "print(df.head())  # Show the first few rows\n"
   ]
  },
  {
   "cell_type": "code",
   "execution_count": 12,
   "id": "06d03f78-0c70-4bc9-ba4e-23cf09eb7460",
   "metadata": {},
   "outputs": [
    {
     "name": "stdout",
     "output_type": "stream",
     "text": [
      "  Last Name  Gender                          Email               Phone  Salary\n",
      "0   Mahoney    Male            pwarner@example.org        857.139.8239   90000\n",
      "1    Rivers  Female  fergusonkatherine@example.net                 NaN   80000\n",
      "2    Lowery  Female            fhoward@example.org       (599)782-0605   50000\n",
      "3    Hooper    Male          zjohnston@example.com                 NaN   65000\n",
      "4      Rice  Female               elin@example.net  (390)417-1635x3010  100000\n"
     ]
    }
   ],
   "source": [
    "import pandas as pd\n",
    "\n",
    "\n",
    "try:\n",
    "  # Read the CSV file, specifying desired columns\n",
    "  df = pd.read_csv('PeopleData.csv', usecols=['Last Name', 'Gender', 'Email', 'Phone', 'Salary'])\n",
    "except FileNotFoundError:\n",
    "  print(\"Error: File 'data.csv' not found. Please check the file path.\")\n",
    "  exit()\n",
    "\n",
    "# Display a sample of the DataFrame (optional)\n",
    "print(df.head())  # Show the first few rows\n"
   ]
  },
  {
   "cell_type": "code",
   "execution_count": 13,
   "id": "5cd91685-09f7-44bb-b091-082b3f545416",
   "metadata": {},
   "outputs": [
    {
     "name": "stdout",
     "output_type": "stream",
     "text": [
      "995     90000\n",
      "996     50000\n",
      "997     60000\n",
      "998    100000\n",
      "999     90000\n",
      "Name: Salary, dtype: int64\n"
     ]
    }
   ],
   "source": [
    "# Extract the 'Salary' column as a Series\n",
    "salary_series = df['Salary']\n",
    "\n",
    "# Display the last 5 values of the 'Salary' Series\n",
    "print(salary_series.tail(5))\n"
   ]
  },
  {
   "cell_type": "markdown",
   "id": "6cd30cbe-15f4-46f8-b528-4a4e7a98987b",
   "metadata": {},
   "source": [
    "_______________________________________________________________________________________________________________________"
   ]
  },
  {
   "cell_type": "markdown",
   "id": "24976295-df5d-4608-9de5-ae9e46db0509",
   "metadata": {},
   "source": [
    "9. Filter and select rows from the People_Dataset, where the “Last Name' column contains the name 'Du\\e', \n",
    "'Gender' column contains the word Female and ‘Nalary’ should Pe less than _.RRR"
   ]
  },
  {
   "cell_type": "code",
   "execution_count": 1,
   "id": "14a03ee2-3c50-424e-8590-a1ab9ecd6733",
   "metadata": {},
   "outputs": [
    {
     "name": "stdout",
     "output_type": "stream",
     "text": [
      "     Index          User Id First Name Last Name  Gender  \\\n",
      "45      46  99A502C175C4EBd     Olivia      Duke  Female   \n",
      "210    211  DF17975CC0a0373    Katrina      Duke  Female   \n",
      "457    458  dcE1B7DE83c1076      Traci      Duke  Female   \n",
      "729    730  c9b482D7aa3e682     Lonnie      Duke  Female   \n",
      "\n",
      "                        Email                   Phone Date of birth  \\\n",
      "45        diana26@example.net  001-366-475-8607x04350    13-10-1934   \n",
      "210       robin78@example.com            740.434.0212    21-09-1935   \n",
      "457  perryhoffman@example.org     +1-903-596-0995x489    11-02-1997   \n",
      "729   kevinkramer@example.net            982.692.6257    12-05-2015   \n",
      "\n",
      "           Job Title  Salary  \n",
      "45           Dentist   60000  \n",
      "210  Producer, radio   50000  \n",
      "457        Herbalist   50000  \n",
      "729     Nurse, adult   70000  \n"
     ]
    }
   ],
   "source": [
    "import pandas as pd\n",
    "\n",
    "# Assuming your sample dataset is in a CSV file named 'data.csv'\n",
    "try:\n",
    "  # Read the CSV file\n",
    "  df = pd.read_csv('PeopleData.csv')\n",
    "except FileNotFoundError:\n",
    "  print(\"Error: File 'data.csv' not found. Please check the file path.\")\n",
    "  exit()\n",
    "\n",
    "# Filter rows where Last Name is 'Duke', Gender is 'Female', and Salary is less than 85000\n",
    "filtered_df = df[(df['Last Name'] == 'Duke') & (df['Gender'] == 'Female') & (df['Salary'] < 85000)]\n",
    "\n",
    "# Display the filtered DataFrame\n",
    "print(filtered_df)\n"
   ]
  },
  {
   "cell_type": "markdown",
   "id": "5e05db19-9d70-4b87-b7b6-df346c477d85",
   "metadata": {},
   "source": [
    "________________________________________________________________________________________________________________________"
   ]
  },
  {
   "cell_type": "markdown",
   "id": "57913d0b-87af-4bb2-9240-88b4b650bd14",
   "metadata": {},
   "source": [
    "10. Create a 7*. Dataframe in Pandas using a series generated from . random integers Petween w to )?"
   ]
  },
  {
   "cell_type": "code",
   "execution_count": 2,
   "id": "32e7079c-fead-4aa7-82aa-8c8ad7635fd3",
   "metadata": {},
   "outputs": [
    {
     "name": "stdout",
     "output_type": "stream",
     "text": [
      "   0  1  2  3  4\n",
      "0  6  2  1  3  1\n",
      "1  4  3  4  5  4\n",
      "2  5  1  3  5  6\n",
      "3  2  6  1  6  5\n",
      "4  6  5  5  2  6\n",
      "5  5  4  4  5  1\n",
      "6  5  5  5  2  6\n"
     ]
    }
   ],
   "source": [
    "import pandas as pd\n",
    "import numpy as np\n",
    "\n",
    "# Generate 35 random integers between 1 and 6 (inclusive)\n",
    "data = np.random.randint(1, 7, size=35)\n",
    "\n",
    "# Reshape the data into a 7x5 DataFrame\n",
    "df = pd.DataFrame(data.reshape(7, 5))\n",
    "\n",
    "# Print the DataFrame\n",
    "print(df)\n"
   ]
  },
  {
   "cell_type": "markdown",
   "id": "e7ecb6a3-c83c-406a-8eb3-c420b5f63f66",
   "metadata": {},
   "source": [
    "_________________________________________________________________________________________________________________________________"
   ]
  },
  {
   "cell_type": "markdown",
   "id": "de700f45-de92-4609-b4bc-379b5cb8af6c",
   "metadata": {},
   "source": [
    "11. Create two different Series, each of length 50, with the following criteria:\n",
    "\n",
    "a) The first Series should contain random numbers ranging from 10 to 50.\n",
    "\n",
    "b) The second Series should contain random numbers ranging from 100 to 1000.\n",
    "\n",
    "c) Create a DataFrame by 'oining these Series by column, and, change the names of the columns to 'col1', 'col2',\n",
    "etc&"
   ]
  },
  {
   "cell_type": "code",
   "execution_count": 3,
   "id": "95e45742-0f4a-4518-a758-60b303fb0c4e",
   "metadata": {},
   "outputs": [
    {
     "name": "stdout",
     "output_type": "stream",
     "text": [
      "    col1  col2\n",
      "0     35   686\n",
      "1     32   374\n",
      "2     35   145\n",
      "3     46   709\n",
      "4     46   391\n",
      "5     43   503\n",
      "6     31   152\n",
      "7     39   458\n",
      "8     10   283\n",
      "9     42   698\n",
      "10    20   885\n",
      "11    46   576\n",
      "12    13   903\n",
      "13    29   866\n",
      "14    13   897\n",
      "15    11   730\n",
      "16    39   793\n",
      "17    39   947\n",
      "18    42   413\n",
      "19    26   502\n",
      "20    33   443\n",
      "21    27   439\n",
      "22    38   577\n",
      "23    22   555\n",
      "24    34   276\n",
      "25    14   506\n",
      "26    47   469\n",
      "27    29   916\n",
      "28    33   779\n",
      "29    22   232\n",
      "30    24   147\n",
      "31    33   226\n",
      "32    13   586\n",
      "33    11   296\n",
      "34    41   455\n",
      "35    35   725\n",
      "36    17   366\n",
      "37    15   499\n",
      "38    33   546\n",
      "39    21   647\n",
      "40    34   446\n",
      "41    42   604\n",
      "42    24   490\n",
      "43    25   749\n",
      "44    21   492\n",
      "45    36   667\n",
      "46    46   266\n",
      "47    38   551\n",
      "48    41   142\n",
      "49    43   775\n"
     ]
    }
   ],
   "source": [
    "import pandas as pd\n",
    "import numpy as np\n",
    "\n",
    "# Generate random data for Series 1 (10 to 50)\n",
    "data1 = np.random.randint(10, 51, size=50)\n",
    "\n",
    "# Generate random data for Series 2 (100 to 1000)\n",
    "data2 = np.random.randint(100, 1001, size=50)\n",
    "\n",
    "# Create Series objects\n",
    "series1 = pd.Series(data1)\n",
    "series2 = pd.Series(data2)\n",
    "\n",
    "# Combine Series into a DataFrame with named columns\n",
    "df = pd.DataFrame({\n",
    "  'col1': series1,\n",
    "  'col2': series2\n",
    "})\n",
    "\n",
    "# Print the DataFrame\n",
    "print(df)\n"
   ]
  },
  {
   "cell_type": "markdown",
   "id": "54010185-9ce7-4e10-99e2-e6d77266fe35",
   "metadata": {},
   "source": [
    "______________________________________________________________________________________________________________________________"
   ]
  },
  {
   "cell_type": "markdown",
   "id": "c1c9dbe4-51b7-48a9-bedb-14643c9f1880",
   "metadata": {},
   "source": [
    "12. Perform the following operations using people data set:\n",
    "\n",
    "a) Delete the 'Email', 'Phone', and 'Date of birth' columns from the dataset.\n",
    "\n",
    "b) Delete the rows containing any missing values.\n",
    "\n",
    "d) Print the final out\u0018ut also&"
   ]
  },
  {
   "cell_type": "code",
   "execution_count": 4,
   "id": "a4d5c3ce-0e22-478b-913e-c5225f175fc9",
   "metadata": {},
   "outputs": [
    {
     "name": "stdout",
     "output_type": "stream",
     "text": [
      "Selected columns saved to 'filtered_data.csv'.\n"
     ]
    }
   ],
   "source": [
    "import pandas as pd\n",
    "\n",
    "# Assuming your sample dataset is in a CSV file named 'data.csv'\n",
    "try:\n",
    "  # Read the CSV file, specifying desired columns to keep\n",
    "  df = pd.read_csv('PeopleData.csv', usecols=lambda col: col not in ['Email', 'Phone', 'Date of Birth'])\n",
    "except FileNotFoundError:\n",
    "  print(\"Error: File 'data.csv' not found. Please check the file path.\")\n",
    "  exit()\n",
    "\n",
    "# Save the filtered data to a new CSV file (optional)\n",
    "df.to_csv('filtered_data.csv', index=False)  # Avoids saving index as a column\n",
    "\n",
    "print(\"Selected columns saved to 'filtered_data.csv'.\")\n"
   ]
  },
  {
   "cell_type": "code",
   "execution_count": 5,
   "id": "6f6b364b-1ff9-465d-a445-6aeccc71d374",
   "metadata": {},
   "outputs": [
    {
     "name": "stdout",
     "output_type": "stream",
     "text": [
      "     Index          User Id First Name Last Name  Gender Date of birth  \\\n",
      "0        1  8717bbf45cCDbEe     Shelia   Mahoney    Male    27-01-2014   \n",
      "1        2  3d5AD30A4cD38ed         Jo    Rivers  Female    26-07-1931   \n",
      "2        3  810Ce0F276Badec     Sheryl    Lowery  Female    25-11-2013   \n",
      "3        4  BF2a889C00f0cE1    Whitney    Hooper    Male    17-11-2012   \n",
      "4        5  9afFEafAe1CBBB9    Lindsey      Rice  Female    15-04-1923   \n",
      "..     ...              ...        ...       ...     ...           ...   \n",
      "995    996  fedF4c7Fd9e7cFa       Kurt    Bryant  Female    05-01-1959   \n",
      "996    997  ECddaFEDdEc4FAB      Donna     Barry  Female    06-10-2001   \n",
      "997    998  2adde51d8B8979E      Cathy  Mckinney  Female    13-05-1918   \n",
      "998    999  Fb2FE369D1E171A   Jermaine    Phelps    Male    31-08-1971   \n",
      "999   1000  8b756f6231DDC6e        Lee      Tran  Female    24-01-1947   \n",
      "\n",
      "                           Job Title  Salary  \n",
      "0                  Probation officer   90000  \n",
      "1                             Dancer   80000  \n",
      "2                               Copy   50000  \n",
      "3           Counselling psychologist   65000  \n",
      "4                Biomedical engineer  100000  \n",
      "..                               ...     ...  \n",
      "995                Personnel officer   90000  \n",
      "996          Education administrator   50000  \n",
      "997  Commercial/residential surveyor   60000  \n",
      "998                 Ambulance person  100000  \n",
      "999       Nurse, learning disability   90000  \n",
      "\n",
      "[1000 rows x 8 columns]\n"
     ]
    }
   ],
   "source": [
    "import pandas as pd\n",
    "\n",
    "# Assuming your filtered data is in a CSV file named 'filtered_data.csv'\n",
    "try:\n",
    "  # Read the CSV file\n",
    "  df = pd.read_csv('filtered_data.csv')\n",
    "except FileNotFoundError:\n",
    "  print(\"Error: File 'filtered_data.csv' not found. Please check the file path.\")\n",
    "  exit()\n",
    "\n",
    "# Drop rows with any missing values\n",
    "df.dropna(inplace=True)\n",
    "\n",
    "# Display the final DataFrame after dropping rows with missing values\n",
    "print(df)\n"
   ]
  },
  {
   "cell_type": "markdown",
   "id": "d4d1ec51-911d-4710-b9ae-a981a4619470",
   "metadata": {},
   "source": [
    "________________________________________________________________________________________________________________"
   ]
  },
  {
   "cell_type": "markdown",
   "id": "8d3002ba-71ad-4cf2-bc7b-edc6f6374d06",
   "metadata": {},
   "source": [
    "13. Create two NumPy arrays, x and y, each containing 100 random float values between 0 and 1. Perform the\n",
    "following tasks using Matplotlib and NumPy:\n",
    "\n",
    "a) Create a scatter \u0018lot using x and y, setting the color of the \u0018oints to red and the marker style to 'o'.\n",
    "\n",
    "b) Add a horizontal line at y = 0.5 using a dashed line style and label it as 'y = 0.5'.\n",
    "\n",
    "c) Add a vertical line at x = 0.5 using a dotted line style and label it as 'x = 0.5'.\n",
    "\n",
    "d) Label the x-axis as 'X-axis' and the y-axis as 'Y-axis'.\n",
    "\n",
    "e) Set the title of the \u0018lot as 'Advanced Scatter Plot of Random Values'.\n",
    "\n",
    "f) Dis\u0018lay a legend for the scatter \u0018lot, the horizontal line, and the vertical line."
   ]
  },
  {
   "cell_type": "code",
   "execution_count": 6,
   "id": "1f37a4a4-9f45-440c-8ad5-c0e898a5ec7b",
   "metadata": {},
   "outputs": [
    {
     "data": {
      "image/png": "[encoded data removed]",
      "text/plain": [
       "<Figure size 640x480 with 1 Axes>"
      ]
     },
     "metadata": {},
     "output_type": "display_data"
    }
   ],
   "source": [
    "import matplotlib.pyplot as plt\n",
    "import numpy as np\n",
    "\n",
    "# Generate random float values between 0 and 1 (exclusive)\n",
    "x = np.random.rand(100)\n",
    "y = np.random.rand(100)\n",
    "\n",
    "# Create the scatter plot\n",
    "plt.scatter(x, y, c='red', marker='o', label='Data Points')\n",
    "\n",
    "# Add horizontal line at y = 0.5 (dashed line)\n",
    "plt.axhline(y=0.5, color='gray', linestyle='--', label='y = 0.5')\n",
    "\n",
    "# Add vertical line at x = 0.5 (dotted line)\n",
    "plt.axvline(x=0.5, color='gray', linestyle=':', label='x = 0.5')\n",
    "\n",
    "# Label axes and title\n",
    "plt.xlabel('X-axis')\n",
    "plt.ylabel('Y-axis')\n",
    "plt.title('Advanced Scatter Plot of Random Values')\n",
    "\n",
    "# Add legend\n",
    "plt.legend()\n",
    "\n",
    "# Display the plot\n",
    "plt.show()\n"
   ]
  },
  {
   "cell_type": "markdown",
   "id": "4ac6f8e8-091e-4c0c-a5c3-435e3cc9d5f9",
   "metadata": {},
   "source": [
    "___________________________________________________________________________________________________________________________________"
   ]
  },
  {
   "cell_type": "markdown",
   "id": "56d022bf-cd63-434e-831f-a9822e0ecd5f",
   "metadata": {},
   "source": [
    "14. Create a time-series dataset in a Pandas DataFrame with columns: 'Date', 'Temperature', 'Humidity' and Perform the following tasks using Matplotlib:\n",
    "a) Plot the 'Temperature' and 'Humidity' on the same plot with different y-axes (left y-axis for 'Temperature' and right y-axis for 'Humidity'). \n",
    "b) Label the x-axis as 'Date'. \n",
    "c) Set the title of the plot as 'Temperature and Humidity Over Time"
   ]
  },
  {
   "cell_type": "code",
   "execution_count": 7,
   "id": "18156abe-1387-495a-8398-1a6ff7f2ca91",
   "metadata": {},
   "outputs": [
    {
     "data": {
      "image/png": "[encoded data removed]",
      "text/plain": [
       "<Figure size 640x480 with 2 Axes>"
      ]
     },
     "metadata": {},
     "output_type": "display_data"
    }
   ],
   "source": [
    "import pandas as pd\n",
    "import matplotlib.pyplot as plt\n",
    "import numpy as np\n",
    "\n",
    "# Generate random data for time series\n",
    "dates = pd.date_range(start='2023-01-01', periods=30)  # Create 30 dates\n",
    "temperature = np.random.randint(10, 30, size=30)  # Random temperatures\n",
    "humidity = np.random.randint(30, 70, size=30)  # Random humidity\n",
    "\n",
    "# Create DataFrame\n",
    "df = pd.DataFrame({'Date': dates, 'Temperature': temperature, 'Humidity': humidity})\n",
    "\n",
    "# Define two axes for plotting\n",
    "fig, ax1 = plt.subplots()\n",
    "ax2 = ax1.twinx()  # Create a twin axis for humidity\n",
    "\n",
    "# Plot temperature on left y-axis\n",
    "ax1.plot(df['Date'], df['Temperature'], 'b-', label='Temperature (°C)')\n",
    "ax1.set_ylabel('Temperature (°C)', color='b')\n",
    "\n",
    "# Plot humidity on right y-axis\n",
    "ax2.plot(df['Date'], df['Humidity'], 'g-', label='Humidity (%)')\n",
    "ax2.set_ylabel('Humidity (%)', color='g')\n",
    "\n",
    "# Set labels and title\n",
    "plt.xlabel('Date')\n",
    "plt.title('Temperature and Humidity Over Time')\n",
    "\n",
    "# Add legend\n",
    "lines1, labels1 = ax1.get_legend_handles_labels()\n",
    "lines2, labels2 = ax2.get_legend_handles_labels()\n",
    "plt.legend(lines1 + lines2, labels1 + labels2, loc='upper left')  # Combine legends\n",
    "\n",
    "# Rotate x-axis labels for better readability\n",
    "plt.xticks(rotation=45)\n",
    "plt.tight_layout()  # Adjust spacing between elements\n",
    "plt.show()\n"
   ]
  },
  {
   "cell_type": "markdown",
   "id": "5c5c982e-f4c4-455c-84ce-c1efb1f0f7c6",
   "metadata": {},
   "source": [
    "_______________________________________________________________________________________________________________________"
   ]
  },
  {
   "cell_type": "markdown",
   "id": "31396357-5b94-4c55-8671-c4f65f1f674d",
   "metadata": {},
   "source": [
    "[15), 16)] Create a NumPy array data containing 1000 samples from a normal distribution. Perform the following\n",
    "tasks using Matplotlib:\n",
    "\n",
    "a) Plot a histogram of the data with 30 bins.\n",
    "\n",
    "b) Overlay a line \u0018lot re\u0018resenting the normal distribution's \u0018robability density function (PDF).\n",
    "\n",
    "c) Label the x-axis as 'Value' and the y-axis as 'Frequency/Probability'.\n",
    "\n",
    "d) Set the title of the \u0018lot as 'Histogram with PDF Overlay'."
   ]
  },
  {
   "cell_type": "code",
   "execution_count": 2,
   "id": "864f57d1-0bdc-4f50-89ca-e19621fb4a71",
   "metadata": {},
   "outputs": [
    {
     "data": {
      "image/png": "[encoded data removed]",
      "text/plain": [
       "<Figure size 640x480 with 1 Axes>"
      ]
     },
     "metadata": {},
     "output_type": "display_data"
    }
   ],
   "source": [
    "import matplotlib.pyplot as plt\n",
    "import numpy as np\n",
    "from scipy.stats import norm\n",
    "\n",
    "# Generate 1000 samples from a standard normal distribution\n",
    "data = np.random.normal(loc=0, scale=1, size=1000)\n",
    "\n",
    "# Create the histogram with 30 bins\n",
    "counts, bins, patches = plt.hist(data, bins=30, density=True, alpha=0.7, label='Histogram')  # Set density for PDF comparison\n",
    "\n",
    "# Calculate theoretical PDF values for the same bins\n",
    "mu = 0  # Mean (set to 0 for standard normal distribution)\n",
    "sigma = 1  # Standard deviation (set to 1 for standard normal distribution)\n",
    "pdf = norm.pdf(bins, mu, sigma)\n",
    "\n",
    "# Overlay PDF line plot\n",
    "plt.plot(bins, pdf, 'r-', linewidth=2, label='PDF')\n",
    "\n",
    "# Set labels and title\n",
    "plt.xlabel('Value')\n",
    "plt.ylabel('Frequency/Probability')\n",
    "plt.title('Histogram with PDF Overlay')\n",
    "\n",
    "# Add legend\n",
    "plt.legend()\n",
    "\n",
    "# Adjust layout to prevent overlapping elements\n",
    "plt.tight_layout()\n",
    "\n",
    "# Display the plot\n",
    "plt.show()\n"
   ]
  },
  {
   "cell_type": "markdown",
   "id": "9ccffb51-687a-4893-8ba4-9f9f43c80c1e",
   "metadata": {},
   "source": [
    "__________________________________________________________________________________________________________________________"
   ]
  },
  {
   "cell_type": "markdown",
   "id": "3635cdb0-1bc2-40eb-9ff5-63b065ddc22c",
   "metadata": {},
   "source": [
    "17) Create a Seaborn scatter plot of two random arrays, color points based on their position relative to the\n",
    "origin (quadrants), add a legend, label the axes, and set the title as 'Quadrant-wise Scatter Plot'."
   ]
  },
  {
   "cell_type": "code",
   "execution_count": 5,
   "id": "bad5f7f5-4fe9-4d99-a3de-9e5471194c64",
   "metadata": {},
   "outputs": [
    {
     "data": {
      "image/png": "[encoded data removed]",
      "text/plain": [
       "<Figure size 640x480 with 1 Axes>"
      ]
     },
     "metadata": {},
     "output_type": "display_data"
    }
   ],
   "source": [
    "import seaborn as sns\n",
    "import numpy as np\n",
    "import matplotlib.pyplot as plt\n",
    "\n",
    "# Generate random data\n",
    "np.random.seed(10)  # For reproducibility\n",
    "x = np.random.rand(100)\n",
    "y = np.random.rand(100)\n",
    "\n",
    "# Define a function to determine quadrants\n",
    "def get_quadrant(x, y):\n",
    "  if x > 0 and y > 0:\n",
    "    return \"Upper Right\"\n",
    "  elif x < 0 and y > 0:\n",
    "    return \"Upper Left\"\n",
    "  elif x < 0 and y < 0:\n",
    "    return \"Lower Left\"\n",
    "  else:\n",
    "    return \"Lower Right\"\n",
    "\n",
    "# Calculate quadrants for each data point\n",
    "quadrants = np.vectorize(get_quadrant)(x, y)\n",
    "\n",
    "# Create the scatter plot with color mapping\n",
    "sns.scatterplot(x=x, y=y, hue=quadrants, palette=\"Set2\")\n",
    "\n",
    "# Add legend and labels\n",
    "plt.legend(title=\"Quadrant\")\n",
    "plt.xlabel(\"X-axis\")\n",
    "plt.ylabel(\"Y-axis\")\n",
    "\n",
    "# Set title\n",
    "plt.title(\"Quadrant-wise Scatter Plot\")\n",
    "\n",
    "# Show the plot\n",
    "plt.show()\n"
   ]
  },
  {
   "cell_type": "markdown",
   "id": "91c6942f-13a7-48c9-8323-ff9b6bc64fb0",
   "metadata": {},
   "source": [
    "_______________________________________________________________________________________________________________________________"
   ]
  },
  {
   "cell_type": "markdown",
   "id": "79341169-af88-45e2-a47b-e7a6266786c8",
   "metadata": {},
   "source": [
    "18) With Bokeh, plot a line chart of a sine wave function, add grid lines, label the axes, and set the title as 'Sine\n",
    "Wave Function'"
   ]
  },
  {
   "cell_type": "code",
   "execution_count": 32,
   "id": "ce567413-10e2-41fc-98cd-e315428213ca",
   "metadata": {},
   "outputs": [],
   "source": [
    "import numpy as np\n",
    "from bokeh.plotting import figure, show\n",
    "\n",
    "# Generate x and y data points\n",
    "x = np.linspace(0, 10, 400)  # Range of x-axis (0 to 10 with 400 points)\n",
    "y = np.sin(x)  # Calculate sine values for each x\n",
    "\n",
    "# Create a new plot with a title\n",
    "p = figure(title=\"Sine Wave Function\")\n",
    "\n",
    "# Add line renderer for the sine wave\n",
    "p.line(x, y, line_width=2, line_color=\"blue\", legend_label=\"Sine\")\n",
    "\n",
    "# Add grid lines\n",
    "p.grid.grid_line_color = (220, 220, 220)  # Light gray grid lines\n",
    "\n",
    "# Label axis\n",
    "p.xaxis.axis_label = 'X'\n",
    "p.yaxis.axis_label = 'Y'\n",
    "\n",
    "# Display the plot (using show function)\n",
    "show(p)\n"
   ]
  },
  {
   "cell_type": "markdown",
   "id": "a2045332-da12-4522-bef1-e94da4efc784",
   "metadata": {},
   "source": [
    "________________________________________________________________________________________________________________"
   ]
  },
  {
   "cell_type": "markdown",
   "id": "eec6de6f-4462-42ca-a9c6-ccbe9782856a",
   "metadata": {},
   "source": [
    "19)Using Bokeh, generate a bar chart of randomly generated categorical data, color bars based on their\n",
    "values, add hover tooltips to display exact values, label the axes, and set the title as 'Random Categorical\n",
    "Bar Chart'"
   ]
  },
  {
   "cell_type": "code",
   "execution_count": 29,
   "id": "7fb9c05d-ccfb-41ad-8e6c-fbe89011d332",
   "metadata": {},
   "outputs": [
    {
     "ename": "NameError",
     "evalue": "name 'random' is not defined",
     "output_type": "error",
     "traceback": [
      "\u001b[0;31m---------------------------------------------------------------------------\u001b[0m",
      "\u001b[0;31mNameError\u001b[0m                                 Traceback (most recent call last)",
      "Cell \u001b[0;32mIn[29], line 6\u001b[0m\n\u001b[1;32m      4\u001b[0m \u001b[38;5;66;03m# Generate random categorical data\u001b[39;00m\n\u001b[1;32m      5\u001b[0m categories \u001b[38;5;241m=\u001b[39m [\u001b[38;5;124m\"\u001b[39m\u001b[38;5;124mA\u001b[39m\u001b[38;5;124m\"\u001b[39m, \u001b[38;5;124m\"\u001b[39m\u001b[38;5;124mB\u001b[39m\u001b[38;5;124m\"\u001b[39m, \u001b[38;5;124m\"\u001b[39m\u001b[38;5;124mC\u001b[39m\u001b[38;5;124m\"\u001b[39m, \u001b[38;5;124m\"\u001b[39m\u001b[38;5;124mD\u001b[39m\u001b[38;5;124m\"\u001b[39m, \u001b[38;5;124m\"\u001b[39m\u001b[38;5;124mE\u001b[39m\u001b[38;5;124m\"\u001b[39m]\n\u001b[0;32m----> 6\u001b[0m values \u001b[38;5;241m=\u001b[39m [random\u001b[38;5;241m.\u001b[39mrandint(\u001b[38;5;241m10\u001b[39m, \u001b[38;5;241m50\u001b[39m) \u001b[38;5;28;01mfor\u001b[39;00m _ \u001b[38;5;129;01min\u001b[39;00m \u001b[38;5;28mrange\u001b[39m(\u001b[38;5;28mlen\u001b[39m(categories))]\n\u001b[1;32m      8\u001b[0m \u001b[38;5;66;03m# Create a ColumnDataSource\u001b[39;00m\n\u001b[1;32m      9\u001b[0m source \u001b[38;5;241m=\u001b[39m ColumnDataSource(data\u001b[38;5;241m=\u001b[39m\u001b[38;5;28mdict\u001b[39m(x\u001b[38;5;241m=\u001b[39mcategories, values\u001b[38;5;241m=\u001b[39mvalues))\n",
      "Cell \u001b[0;32mIn[29], line 6\u001b[0m, in \u001b[0;36m<listcomp>\u001b[0;34m(.0)\u001b[0m\n\u001b[1;32m      4\u001b[0m \u001b[38;5;66;03m# Generate random categorical data\u001b[39;00m\n\u001b[1;32m      5\u001b[0m categories \u001b[38;5;241m=\u001b[39m [\u001b[38;5;124m\"\u001b[39m\u001b[38;5;124mA\u001b[39m\u001b[38;5;124m\"\u001b[39m, \u001b[38;5;124m\"\u001b[39m\u001b[38;5;124mB\u001b[39m\u001b[38;5;124m\"\u001b[39m, \u001b[38;5;124m\"\u001b[39m\u001b[38;5;124mC\u001b[39m\u001b[38;5;124m\"\u001b[39m, \u001b[38;5;124m\"\u001b[39m\u001b[38;5;124mD\u001b[39m\u001b[38;5;124m\"\u001b[39m, \u001b[38;5;124m\"\u001b[39m\u001b[38;5;124mE\u001b[39m\u001b[38;5;124m\"\u001b[39m]\n\u001b[0;32m----> 6\u001b[0m values \u001b[38;5;241m=\u001b[39m [\u001b[43mrandom\u001b[49m\u001b[38;5;241m.\u001b[39mrandint(\u001b[38;5;241m10\u001b[39m, \u001b[38;5;241m50\u001b[39m) \u001b[38;5;28;01mfor\u001b[39;00m _ \u001b[38;5;129;01min\u001b[39;00m \u001b[38;5;28mrange\u001b[39m(\u001b[38;5;28mlen\u001b[39m(categories))]\n\u001b[1;32m      8\u001b[0m \u001b[38;5;66;03m# Create a ColumnDataSource\u001b[39;00m\n\u001b[1;32m      9\u001b[0m source \u001b[38;5;241m=\u001b[39m ColumnDataSource(data\u001b[38;5;241m=\u001b[39m\u001b[38;5;28mdict\u001b[39m(x\u001b[38;5;241m=\u001b[39mcategories, values\u001b[38;5;241m=\u001b[39mvalues))\n",
      "\u001b[0;31mNameError\u001b[0m: name 'random' is not defined"
     ]
    }
   ],
   "source": [
    "from bokeh.plotting import figure, show\n",
    "from bokeh.models import ColumnDataSource, HoverTool\n",
    "\n",
    "# Generate random categorical data\n",
    "categories = [\"A\", \"B\", \"C\", \"D\", \"E\"]\n",
    "values = [random.randint(10, 50) for _ in range(len(categories))]\n",
    "\n",
    "# Create a ColumnDataSource\n",
    "source = ColumnDataSource(data=dict(x=categories, values=values))\n",
    "\n",
    "# Create the bar chart\n",
    "p = figure(\n",
    "    x_range=categories,\n",
    "    title=\"Random Categorical Bar Chart\",\n",
    "    toolbar_location=None,\n",
    "    tools=\"\"\n",
    ")\n",
    "\n",
    "# Create bars with color mapper based on values\n",
    "mapper = [\"#%06x\" % (val * 255 // 50) for val in values]  # Color based on value\n",
    "p.vbar(x=\"x\", top=\"values\", width=0.7, color=mapper, source=source)\n",
    "\n",
    "# Add hover tool to display exact values\n",
    "hover = HoverTool()\n",
    "hover.tooltips = [(\"Category\", \"@x\"), (\"Value\", \"@values\")]\n",
    "p.add_tools(hover)\n",
    "\n",
    "# Label the axes\n",
    "p.xaxis.axis_label = \"Category\"\n",
    "p.yaxis.axis_label = \"Value\"\n",
    "\n",
    "# Display the chart\n",
    "show(p)\n",
    "\n"
   ]
  },
  {
   "cell_type": "markdown",
   "id": "161ca49c-8542-43ad-9d6a-ef5c95f807fc",
   "metadata": {},
   "source": [
    "20) Using Plotly, create a basic line plot of a randomly generated dataset, label the axes, and set the title as\n",
    "'Simple Line Plot'"
   ]
  },
  {
   "cell_type": "code",
   "execution_count": 31,
   "id": "b881b310-3d8b-4f25-a0df-c85dad09aa86",
   "metadata": {},
   "outputs": [
    {
     "data": {
      "application/vnd.plotly.v1+json": {
       "config": {
        "plotlyServerURL": "https://plot.ly"
       },
       "data": [
        {
         "mode": "lines",
         "type": "scatter",
         "x": [
          0,
          1,
          2,
          3,
          4,
          5,
          6,
          7,
          8,
          9
         ],
         "y": [
          14,
          48,
          11,
          24,
          35,
          38,
          11,
          6,
          5,
          7
         ]
        }
       ],
       "layout": {
        "autosize": true,
        "template": {
         "data": {
          "bar": [
           {
            "error_x": {
             "color": "#2a3f5f"
            },
            "error_y": {
             "color": "#2a3f5f"
            },
            "marker": {
             "line": {
              "color": "#E5ECF6",
              "width": 0.5
             },
             "pattern": {
              "fillmode": "overlay",
              "size": 10,
              "solidity": 0.2
             }
            },
            "type": "bar"
           }
          ],
          "barpolar": [
           {
            "marker": {
             "line": {
              "color": "#E5ECF6",
              "width": 0.5
             },
             "pattern": {
              "fillmode": "overlay",
              "size": 10,
              "solidity": 0.2
             }
            },
            "type": "barpolar"
           }
          ],
          "carpet": [
           {
            "aaxis": {
             "endlinecolor": "#2a3f5f",
             "gridcolor": "white",
             "linecolor": "white",
             "minorgridcolor": "white",
             "startlinecolor": "#2a3f5f"
            },
            "baxis": {
             "endlinecolor": "#2a3f5f",
             "gridcolor": "white",
             "linecolor": "white",
             "minorgridcolor": "white",
             "startlinecolor": "#2a3f5f"
            },
            "type": "carpet"
           }
          ],
          "choropleth": [
           {
            "colorbar": {
             "outlinewidth": 0,
             "ticks": ""
            },
            "type": "choropleth"
           }
          ],
          "contour": [
           {
            "colorbar": {
             "outlinewidth": 0,
             "ticks": ""
            },
            "colorscale": [
             [
              0,
              "#0d0887"
             ],
             [
              0.1111111111111111,
              "#46039f"
             ],
             [
              0.2222222222222222,
              "#7201a8"
             ],
             [
              0.3333333333333333,
              "#9c179e"
             ],
             [
              0.4444444444444444,
              "#bd3786"
             ],
             [
              0.5555555555555556,
              "#d8576b"
             ],
             [
              0.6666666666666666,
              "#ed7953"
             ],
             [
              0.7777777777777778,
              "#fb9f3a"
             ],
             [
              0.8888888888888888,
              "#fdca26"
             ],
             [
              1,
              "#f0f921"
             ]
            ],
            "type": "contour"
           }
          ],
          "contourcarpet": [
           {
            "colorbar": {
             "outlinewidth": 0,
             "ticks": ""
            },
            "type": "contourcarpet"
           }
          ],
          "heatmap": [
           {
            "colorbar": {
             "outlinewidth": 0,
             "ticks": ""
            },
            "colorscale": [
             [
              0,
              "#0d0887"
             ],
             [
              0.1111111111111111,
              "#46039f"
             ],
             [
              0.2222222222222222,
              "#7201a8"
             ],
             [
              0.3333333333333333,
              "#9c179e"
             ],
             [
              0.4444444444444444,
              "#bd3786"
             ],
             [
              0.5555555555555556,
              "#d8576b"
             ],
             [
              0.6666666666666666,
              "#ed7953"
             ],
             [
              0.7777777777777778,
              "#fb9f3a"
             ],
             [
              0.8888888888888888,
              "#fdca26"
             ],
             [
              1,
              "#f0f921"
             ]
            ],
            "type": "heatmap"
           }
          ],
          "heatmapgl": [
           {
            "colorbar": {
             "outlinewidth": 0,
             "ticks": ""
            },
            "colorscale": [
             [
              0,
              "#0d0887"
             ],
             [
              0.1111111111111111,
              "#46039f"
             ],
             [
              0.2222222222222222,
              "#7201a8"
             ],
             [
              0.3333333333333333,
              "#9c179e"
             ],
             [
              0.4444444444444444,
              "#bd3786"
             ],
             [
              0.5555555555555556,
              "#d8576b"
             ],
             [
              0.6666666666666666,
              "#ed7953"
             ],
             [
              0.7777777777777778,
              "#fb9f3a"
             ],
             [
              0.8888888888888888,
              "#fdca26"
             ],
             [
              1,
              "#f0f921"
             ]
            ],
            "type": "heatmapgl"
           }
          ],
          "histogram": [
           {
            "marker": {
             "pattern": {
              "fillmode": "overlay",
              "size": 10,
              "solidity": 0.2
             }
            },
            "type": "histogram"
           }
          ],
          "histogram2d": [
           {
            "colorbar": {
             "outlinewidth": 0,
             "ticks": ""
            },
            "colorscale": [
             [
              0,
              "#0d0887"
             ],
             [
              0.1111111111111111,
              "#46039f"
             ],
             [
              0.2222222222222222,
              "#7201a8"
             ],
             [
              0.3333333333333333,
              "#9c179e"
             ],
             [
              0.4444444444444444,
              "#bd3786"
             ],
             [
              0.5555555555555556,
              "#d8576b"
             ],
             [
              0.6666666666666666,
              "#ed7953"
             ],
             [
              0.7777777777777778,
              "#fb9f3a"
             ],
             [
              0.8888888888888888,
              "#fdca26"
             ],
             [
              1,
              "#f0f921"
             ]
            ],
            "type": "histogram2d"
           }
          ],
          "histogram2dcontour": [
           {
            "colorbar": {
             "outlinewidth": 0,
             "ticks": ""
            },
            "colorscale": [
             [
              0,
              "#0d0887"
             ],
             [
              0.1111111111111111,
              "#46039f"
             ],
             [
              0.2222222222222222,
              "#7201a8"
             ],
             [
              0.3333333333333333,
              "#9c179e"
             ],
             [
              0.4444444444444444,
              "#bd3786"
             ],
             [
              0.5555555555555556,
              "#d8576b"
             ],
             [
              0.6666666666666666,
              "#ed7953"
             ],
             [
              0.7777777777777778,
              "#fb9f3a"
             ],
             [
              0.8888888888888888,
              "#fdca26"
             ],
             [
              1,
              "#f0f921"
             ]
            ],
            "type": "histogram2dcontour"
           }
          ],
          "mesh3d": [
           {
            "colorbar": {
             "outlinewidth": 0,
             "ticks": ""
            },
            "type": "mesh3d"
           }
          ],
          "parcoords": [
           {
            "line": {
             "colorbar": {
              "outlinewidth": 0,
              "ticks": ""
             }
            },
            "type": "parcoords"
           }
          ],
          "pie": [
           {
            "automargin": true,
            "type": "pie"
           }
          ],
          "scatter": [
           {
            "fillpattern": {
             "fillmode": "overlay",
             "size": 10,
             "solidity": 0.2
            },
            "type": "scatter"
           }
          ],
          "scatter3d": [
           {
            "line": {
             "colorbar": {
              "outlinewidth": 0,
              "ticks": ""
             }
            },
            "marker": {
             "colorbar": {
              "outlinewidth": 0,
              "ticks": ""
             }
            },
            "type": "scatter3d"
           }
          ],
          "scattercarpet": [
           {
            "marker": {
             "colorbar": {
              "outlinewidth": 0,
              "ticks": ""
             }
            },
            "type": "scattercarpet"
           }
          ],
          "scattergeo": [
           {
            "marker": {
             "colorbar": {
              "outlinewidth": 0,
              "ticks": ""
             }
            },
            "type": "scattergeo"
           }
          ],
          "scattergl": [
           {
            "marker": {
             "colorbar": {
              "outlinewidth": 0,
              "ticks": ""
             }
            },
            "type": "scattergl"
           }
          ],
          "scattermapbox": [
           {
            "marker": {
             "colorbar": {
              "outlinewidth": 0,
              "ticks": ""
             }
            },
            "type": "scattermapbox"
           }
          ],
          "scatterpolar": [
           {
            "marker": {
             "colorbar": {
              "outlinewidth": 0,
              "ticks": ""
             }
            },
            "type": "scatterpolar"
           }
          ],
          "scatterpolargl": [
           {
            "marker": {
             "colorbar": {
              "outlinewidth": 0,
              "ticks": ""
             }
            },
            "type": "scatterpolargl"
           }
          ],
          "scatterternary": [
           {
            "marker": {
             "colorbar": {
              "outlinewidth": 0,
              "ticks": ""
             }
            },
            "type": "scatterternary"
           }
          ],
          "surface": [
           {
            "colorbar": {
             "outlinewidth": 0,
             "ticks": ""
            },
            "colorscale": [
             [
              0,
              "#0d0887"
             ],
             [
              0.1111111111111111,
              "#46039f"
             ],
             [
              0.2222222222222222,
              "#7201a8"
             ],
             [
              0.3333333333333333,
              "#9c179e"
             ],
             [
              0.4444444444444444,
              "#bd3786"
             ],
             [
              0.5555555555555556,
              "#d8576b"
             ],
             [
              0.6666666666666666,
              "#ed7953"
             ],
             [
              0.7777777777777778,
              "#fb9f3a"
             ],
             [
              0.8888888888888888,
              "#fdca26"
             ],
             [
              1,
              "#f0f921"
             ]
            ],
            "type": "surface"
           }
          ],
          "table": [
           {
            "cells": {
             "fill": {
              "color": "#EBF0F8"
             },
             "line": {
              "color": "white"
             }
            },
            "header": {
             "fill": {
              "color": "#C8D4E3"
             },
             "line": {
              "color": "white"
             }
            },
            "type": "table"
           }
          ]
         },
         "layout": {
          "annotationdefaults": {
           "arrowcolor": "#2a3f5f",
           "arrowhead": 0,
           "arrowwidth": 1
          },
          "autotypenumbers": "strict",
          "coloraxis": {
           "colorbar": {
            "outlinewidth": 0,
            "ticks": ""
           }
          },
          "colorscale": {
           "diverging": [
            [
             0,
             "#8e0152"
            ],
            [
             0.1,
             "#c51b7d"
            ],
            [
             0.2,
             "#de77ae"
            ],
            [
             0.3,
             "#f1b6da"
            ],
            [
             0.4,
             "#fde0ef"
            ],
            [
             0.5,
             "#f7f7f7"
            ],
            [
             0.6,
             "#e6f5d0"
            ],
            [
             0.7,
             "#b8e186"
            ],
            [
             0.8,
             "#7fbc41"
            ],
            [
             0.9,
             "#4d9221"
            ],
            [
             1,
             "#276419"
            ]
           ],
           "sequential": [
            [
             0,
             "#0d0887"
            ],
            [
             0.1111111111111111,
             "#46039f"
            ],
            [
             0.2222222222222222,
             "#7201a8"
            ],
            [
             0.3333333333333333,
             "#9c179e"
            ],
            [
             0.4444444444444444,
             "#bd3786"
            ],
            [
             0.5555555555555556,
             "#d8576b"
            ],
            [
             0.6666666666666666,
             "#ed7953"
            ],
            [
             0.7777777777777778,
             "#fb9f3a"
            ],
            [
             0.8888888888888888,
             "#fdca26"
            ],
            [
             1,
             "#f0f921"
            ]
           ],
           "sequentialminus": [
            [
             0,
             "#0d0887"
            ],
            [
             0.1111111111111111,
             "#46039f"
            ],
            [
             0.2222222222222222,
             "#7201a8"
            ],
            [
             0.3333333333333333,
             "#9c179e"
            ],
            [
             0.4444444444444444,
             "#bd3786"
            ],
            [
             0.5555555555555556,
             "#d8576b"
            ],
            [
             0.6666666666666666,
             "#ed7953"
            ],
            [
             0.7777777777777778,
             "#fb9f3a"
            ],
            [
             0.8888888888888888,
             "#fdca26"
            ],
            [
             1,
             "#f0f921"
            ]
           ]
          },
          "colorway": [
           "#636efa",
           "#EF553B",
           "#00cc96",
           "#ab63fa",
           "#FFA15A",
           "#19d3f3",
           "#FF6692",
           "#B6E880",
           "#FF97FF",
           "#FECB52"
          ],
          "font": {
           "color": "#2a3f5f"
          },
          "geo": {
           "bgcolor": "white",
           "lakecolor": "white",
           "landcolor": "#E5ECF6",
           "showlakes": true,
           "showland": true,
           "subunitcolor": "white"
          },
          "hoverlabel": {
           "align": "left"
          },
          "hovermode": "closest",
          "mapbox": {
           "style": "light"
          },
          "paper_bgcolor": "white",
          "plot_bgcolor": "#E5ECF6",
          "polar": {
           "angularaxis": {
            "gridcolor": "white",
            "linecolor": "white",
            "ticks": ""
           },
           "bgcolor": "#E5ECF6",
           "radialaxis": {
            "gridcolor": "white",
            "linecolor": "white",
            "ticks": ""
           }
          },
          "scene": {
           "xaxis": {
            "backgroundcolor": "#E5ECF6",
            "gridcolor": "white",
            "gridwidth": 2,
            "linecolor": "white",
            "showbackground": true,
            "ticks": "",
            "zerolinecolor": "white"
           },
           "yaxis": {
            "backgroundcolor": "#E5ECF6",
            "gridcolor": "white",
            "gridwidth": 2,
            "linecolor": "white",
            "showbackground": true,
            "ticks": "",
            "zerolinecolor": "white"
           },
           "zaxis": {
            "backgroundcolor": "#E5ECF6",
            "gridcolor": "white",
            "gridwidth": 2,
            "linecolor": "white",
            "showbackground": true,
            "ticks": "",
            "zerolinecolor": "white"
           }
          },
          "shapedefaults": {
           "line": {
            "color": "#2a3f5f"
           }
          },
          "ternary": {
           "aaxis": {
            "gridcolor": "white",
            "linecolor": "white",
            "ticks": ""
           },
           "baxis": {
            "gridcolor": "white",
            "linecolor": "white",
            "ticks": ""
           },
           "bgcolor": "#E5ECF6",
           "caxis": {
            "gridcolor": "white",
            "linecolor": "white",
            "ticks": ""
           }
          },
          "title": {
           "x": 0.05
          },
          "xaxis": {
           "automargin": true,
           "gridcolor": "white",
           "linecolor": "white",
           "ticks": "",
           "title": {
            "standoff": 15
           },
           "zerolinecolor": "white",
           "zerolinewidth": 2
          },
          "yaxis": {
           "automargin": true,
           "gridcolor": "white",
           "linecolor": "white",
           "ticks": "",
           "title": {
            "standoff": 15
           },
           "zerolinecolor": "white",
           "zerolinewidth": 2
          }
         }
        },
        "title": {
         "text": "Simple Line Plot"
        },
        "xaxis": {
         "autorange": true,
         "range": [
          0,
          9
         ],
         "title": {
          "text": "X-axis"
         },
         "type": "linear"
        },
        "yaxis": {
         "autorange": true,
         "range": [
          2.611111111111111,
          50.388888888888886
         ],
         "title": {
          "text": "Y-axis"
         },
         "type": "linear"
        }
       }
      },
      "image/png": "[encoded data removed]",
      "text/html": [
       "<div>                            <div id=\"efb11656-3c7e-40a1-aace-fbb4d3b3e47b\" class=\"plotly-graph-div\" style=\"height:525px; width:100%;\"></div>            <script type=\"text/javascript\">                require([\"plotly\"], function(Plotly) {                    window.PLOTLYENV=window.PLOTLYENV || {};                                    if (document.getElementById(\"efb11656-3c7e-40a1-aace-fbb4d3b3e47b\")) {                    Plotly.newPlot(                        \"efb11656-3c7e-40a1-aace-fbb4d3b3e47b\",                        [{\"mode\":\"lines\",\"x\":[0,1,2,3,4,5,6,7,8,9],\"y\":[14,48,11,24,35,38,11,6,5,7],\"type\":\"scatter\"}],                        {\"template\":{\"data\":{\"histogram2dcontour\":[{\"type\":\"histogram2dcontour\",\"colorbar\":{\"outlinewidth\":0,\"ticks\":\"\"},\"colorscale\":[[0.0,\"#0d0887\"],[0.1111111111111111,\"#46039f\"],[0.2222222222222222,\"#7201a8\"],[0.3333333333333333,\"#9c179e\"],[0.4444444444444444,\"#bd3786\"],[0.5555555555555556,\"#d8576b\"],[0.6666666666666666,\"#ed7953\"],[0.7777777777777778,\"#fb9f3a\"],[0.8888888888888888,\"#fdca26\"],[1.0,\"#f0f921\"]]}],\"choropleth\":[{\"type\":\"choropleth\",\"colorbar\":{\"outlinewidth\":0,\"ticks\":\"\"}}],\"histogram2d\":[{\"type\":\"histogram2d\",\"colorbar\":{\"outlinewidth\":0,\"ticks\":\"\"},\"colorscale\":[[0.0,\"#0d0887\"],[0.1111111111111111,\"#46039f\"],[0.2222222222222222,\"#7201a8\"],[0.3333333333333333,\"#9c179e\"],[0.4444444444444444,\"#bd3786\"],[0.5555555555555556,\"#d8576b\"],[0.6666666666666666,\"#ed7953\"],[0.7777777777777778,\"#fb9f3a\"],[0.8888888888888888,\"#fdca26\"],[1.0,\"#f0f921\"]]}],\"heatmap\":[{\"type\":\"heatmap\",\"colorbar\":{\"outlinewidth\":0,\"ticks\":\"\"},\"colorscale\":[[0.0,\"#0d0887\"],[0.1111111111111111,\"#46039f\"],[0.2222222222222222,\"#7201a8\"],[0.3333333333333333,\"#9c179e\"],[0.4444444444444444,\"#bd3786\"],[0.5555555555555556,\"#d8576b\"],[0.6666666666666666,\"#ed7953\"],[0.7777777777777778,\"#fb9f3a\"],[0.8888888888888888,\"#fdca26\"],[1.0,\"#f0f921\"]]}],\"heatmapgl\":[{\"type\":\"heatmapgl\",\"colorbar\":{\"outlinewidth\":0,\"ticks\":\"\"},\"colorscale\":[[0.0,\"#0d0887\"],[0.1111111111111111,\"#46039f\"],[0.2222222222222222,\"#7201a8\"],[0.3333333333333333,\"#9c179e\"],[0.4444444444444444,\"#bd3786\"],[0.5555555555555556,\"#d8576b\"],[0.6666666666666666,\"#ed7953\"],[0.7777777777777778,\"#fb9f3a\"],[0.8888888888888888,\"#fdca26\"],[1.0,\"#f0f921\"]]}],\"contourcarpet\":[{\"type\":\"contourcarpet\",\"colorbar\":{\"outlinewidth\":0,\"ticks\":\"\"}}],\"contour\":[{\"type\":\"contour\",\"colorbar\":{\"outlinewidth\":0,\"ticks\":\"\"},\"colorscale\":[[0.0,\"#0d0887\"],[0.1111111111111111,\"#46039f\"],[0.2222222222222222,\"#7201a8\"],[0.3333333333333333,\"#9c179e\"],[0.4444444444444444,\"#bd3786\"],[0.5555555555555556,\"#d8576b\"],[0.6666666666666666,\"#ed7953\"],[0.7777777777777778,\"#fb9f3a\"],[0.8888888888888888,\"#fdca26\"],[1.0,\"#f0f921\"]]}],\"surface\":[{\"type\":\"surface\",\"colorbar\":{\"outlinewidth\":0,\"ticks\":\"\"},\"colorscale\":[[0.0,\"#0d0887\"],[0.1111111111111111,\"#46039f\"],[0.2222222222222222,\"#7201a8\"],[0.3333333333333333,\"#9c179e\"],[0.4444444444444444,\"#bd3786\"],[0.5555555555555556,\"#d8576b\"],[0.6666666666666666,\"#ed7953\"],[0.7777777777777778,\"#fb9f3a\"],[0.8888888888888888,\"#fdca26\"],[1.0,\"#f0f921\"]]}],\"mesh3d\":[{\"type\":\"mesh3d\",\"colorbar\":{\"outlinewidth\":0,\"ticks\":\"\"}}],\"scatter\":[{\"fillpattern\":{\"fillmode\":\"overlay\",\"size\":10,\"solidity\":0.2},\"type\":\"scatter\"}],\"parcoords\":[{\"type\":\"parcoords\",\"line\":{\"colorbar\":{\"outlinewidth\":0,\"ticks\":\"\"}}}],\"scatterpolargl\":[{\"type\":\"scatterpolargl\",\"marker\":{\"colorbar\":{\"outlinewidth\":0,\"ticks\":\"\"}}}],\"bar\":[{\"error_x\":{\"color\":\"#2a3f5f\"},\"error_y\":{\"color\":\"#2a3f5f\"},\"marker\":{\"line\":{\"color\":\"#E5ECF6\",\"width\":0.5},\"pattern\":{\"fillmode\":\"overlay\",\"size\":10,\"solidity\":0.2}},\"type\":\"bar\"}],\"scattergeo\":[{\"type\":\"scattergeo\",\"marker\":{\"colorbar\":{\"outlinewidth\":0,\"ticks\":\"\"}}}],\"scatterpolar\":[{\"type\":\"scatterpolar\",\"marker\":{\"colorbar\":{\"outlinewidth\":0,\"ticks\":\"\"}}}],\"histogram\":[{\"marker\":{\"pattern\":{\"fillmode\":\"overlay\",\"size\":10,\"solidity\":0.2}},\"type\":\"histogram\"}],\"scattergl\":[{\"type\":\"scattergl\",\"marker\":{\"colorbar\":{\"outlinewidth\":0,\"ticks\":\"\"}}}],\"scatter3d\":[{\"type\":\"scatter3d\",\"line\":{\"colorbar\":{\"outlinewidth\":0,\"ticks\":\"\"}},\"marker\":{\"colorbar\":{\"outlinewidth\":0,\"ticks\":\"\"}}}],\"scattermapbox\":[{\"type\":\"scattermapbox\",\"marker\":{\"colorbar\":{\"outlinewidth\":0,\"ticks\":\"\"}}}],\"scatterternary\":[{\"type\":\"scatterternary\",\"marker\":{\"colorbar\":{\"outlinewidth\":0,\"ticks\":\"\"}}}],\"scattercarpet\":[{\"type\":\"scattercarpet\",\"marker\":{\"colorbar\":{\"outlinewidth\":0,\"ticks\":\"\"}}}],\"carpet\":[{\"aaxis\":{\"endlinecolor\":\"#2a3f5f\",\"gridcolor\":\"white\",\"linecolor\":\"white\",\"minorgridcolor\":\"white\",\"startlinecolor\":\"#2a3f5f\"},\"baxis\":{\"endlinecolor\":\"#2a3f5f\",\"gridcolor\":\"white\",\"linecolor\":\"white\",\"minorgridcolor\":\"white\",\"startlinecolor\":\"#2a3f5f\"},\"type\":\"carpet\"}],\"table\":[{\"cells\":{\"fill\":{\"color\":\"#EBF0F8\"},\"line\":{\"color\":\"white\"}},\"header\":{\"fill\":{\"color\":\"#C8D4E3\"},\"line\":{\"color\":\"white\"}},\"type\":\"table\"}],\"barpolar\":[{\"marker\":{\"line\":{\"color\":\"#E5ECF6\",\"width\":0.5},\"pattern\":{\"fillmode\":\"overlay\",\"size\":10,\"solidity\":0.2}},\"type\":\"barpolar\"}],\"pie\":[{\"automargin\":true,\"type\":\"pie\"}]},\"layout\":{\"autotypenumbers\":\"strict\",\"colorway\":[\"#636efa\",\"#EF553B\",\"#00cc96\",\"#ab63fa\",\"#FFA15A\",\"#19d3f3\",\"#FF6692\",\"#B6E880\",\"#FF97FF\",\"#FECB52\"],\"font\":{\"color\":\"#2a3f5f\"},\"hovermode\":\"closest\",\"hoverlabel\":{\"align\":\"left\"},\"paper_bgcolor\":\"white\",\"plot_bgcolor\":\"#E5ECF6\",\"polar\":{\"bgcolor\":\"#E5ECF6\",\"angularaxis\":{\"gridcolor\":\"white\",\"linecolor\":\"white\",\"ticks\":\"\"},\"radialaxis\":{\"gridcolor\":\"white\",\"linecolor\":\"white\",\"ticks\":\"\"}},\"ternary\":{\"bgcolor\":\"#E5ECF6\",\"aaxis\":{\"gridcolor\":\"white\",\"linecolor\":\"white\",\"ticks\":\"\"},\"baxis\":{\"gridcolor\":\"white\",\"linecolor\":\"white\",\"ticks\":\"\"},\"caxis\":{\"gridcolor\":\"white\",\"linecolor\":\"white\",\"ticks\":\"\"}},\"coloraxis\":{\"colorbar\":{\"outlinewidth\":0,\"ticks\":\"\"}},\"colorscale\":{\"sequential\":[[0.0,\"#0d0887\"],[0.1111111111111111,\"#46039f\"],[0.2222222222222222,\"#7201a8\"],[0.3333333333333333,\"#9c179e\"],[0.4444444444444444,\"#bd3786\"],[0.5555555555555556,\"#d8576b\"],[0.6666666666666666,\"#ed7953\"],[0.7777777777777778,\"#fb9f3a\"],[0.8888888888888888,\"#fdca26\"],[1.0,\"#f0f921\"]],\"sequentialminus\":[[0.0,\"#0d0887\"],[0.1111111111111111,\"#46039f\"],[0.2222222222222222,\"#7201a8\"],[0.3333333333333333,\"#9c179e\"],[0.4444444444444444,\"#bd3786\"],[0.5555555555555556,\"#d8576b\"],[0.6666666666666666,\"#ed7953\"],[0.7777777777777778,\"#fb9f3a\"],[0.8888888888888888,\"#fdca26\"],[1.0,\"#f0f921\"]],\"diverging\":[[0,\"#8e0152\"],[0.1,\"#c51b7d\"],[0.2,\"#de77ae\"],[0.3,\"#f1b6da\"],[0.4,\"#fde0ef\"],[0.5,\"#f7f7f7\"],[0.6,\"#e6f5d0\"],[0.7,\"#b8e186\"],[0.8,\"#7fbc41\"],[0.9,\"#4d9221\"],[1,\"#276419\"]]},\"xaxis\":{\"gridcolor\":\"white\",\"linecolor\":\"white\",\"ticks\":\"\",\"title\":{\"standoff\":15},\"zerolinecolor\":\"white\",\"automargin\":true,\"zerolinewidth\":2},\"yaxis\":{\"gridcolor\":\"white\",\"linecolor\":\"white\",\"ticks\":\"\",\"title\":{\"standoff\":15},\"zerolinecolor\":\"white\",\"automargin\":true,\"zerolinewidth\":2},\"scene\":{\"xaxis\":{\"backgroundcolor\":\"#E5ECF6\",\"gridcolor\":\"white\",\"linecolor\":\"white\",\"showbackground\":true,\"ticks\":\"\",\"zerolinecolor\":\"white\",\"gridwidth\":2},\"yaxis\":{\"backgroundcolor\":\"#E5ECF6\",\"gridcolor\":\"white\",\"linecolor\":\"white\",\"showbackground\":true,\"ticks\":\"\",\"zerolinecolor\":\"white\",\"gridwidth\":2},\"zaxis\":{\"backgroundcolor\":\"#E5ECF6\",\"gridcolor\":\"white\",\"linecolor\":\"white\",\"showbackground\":true,\"ticks\":\"\",\"zerolinecolor\":\"white\",\"gridwidth\":2}},\"shapedefaults\":{\"line\":{\"color\":\"#2a3f5f\"}},\"annotationdefaults\":{\"arrowcolor\":\"#2a3f5f\",\"arrowhead\":0,\"arrowwidth\":1},\"geo\":{\"bgcolor\":\"white\",\"landcolor\":\"#E5ECF6\",\"subunitcolor\":\"white\",\"showland\":true,\"showlakes\":true,\"lakecolor\":\"white\"},\"title\":{\"x\":0.05},\"mapbox\":{\"style\":\"light\"}}},\"title\":{\"text\":\"Simple Line Plot\"},\"xaxis\":{\"title\":{\"text\":\"X-axis\"}},\"yaxis\":{\"title\":{\"text\":\"Y-axis\"}}},                        {\"responsive\": true}                    ).then(function(){\n",
       "                            \n",
       "var gd = document.getElementById('efb11656-3c7e-40a1-aace-fbb4d3b3e47b');\n",
       "var x = new MutationObserver(function (mutations, observer) {{\n",
       "        var display = window.getComputedStyle(gd).display;\n",
       "        if (!display || display === 'none') {{\n",
       "            console.log([gd, 'removed!']);\n",
       "            Plotly.purge(gd);\n",
       "            observer.disconnect();\n",
       "        }}\n",
       "}});\n",
       "\n",
       "// Listen for the removal of the full notebook cells\n",
       "var notebookContainer = gd.closest('#notebook-container');\n",
       "if (notebookContainer) {{\n",
       "    x.observe(notebookContainer, {childList: true});\n",
       "}}\n",
       "\n",
       "// Listen for the clearing of the current output cell\n",
       "var outputEl = gd.closest('.output');\n",
       "if (outputEl) {{\n",
       "    x.observe(outputEl, {childList: true});\n",
       "}}\n",
       "\n",
       "                        })                };                });            </script>        </div>"
      ]
     },
     "metadata": {},
     "output_type": "display_data"
    }
   ],
   "source": [
    "import plotly.graph_objects as go\n",
    "\n",
    "# Generate random data (change size for more/less data points)\n",
    "x_data = [i for i in range(10)]  # Replace 10 with desired number of points\n",
    "y_data = [random.randint(1, 50) for _ in x_data]  # Random values between 1 and 50\n",
    "\n",
    "# Create the line plot\n",
    "fig = go.Figure()\n",
    "fig.add_trace(go.Scatter(x=x_data, y=y_data, mode='lines'))  # 'lines' for line plot\n",
    "\n",
    "# Set labels and title\n",
    "fig.update_layout(\n",
    "    title='Simple Line Plot',\n",
    "    xaxis_title='X-axis',\n",
    "    yaxis_title='Y-axis'\n",
    ")\n",
    "\n",
    "# Display the plot\n",
    "fig.show()\n"
   ]
  },
  {
   "cell_type": "markdown",
   "id": "81e45497-c26c-4148-93f8-a76a64ea0566",
   "metadata": {},
   "source": [
    "_______________________________________________________________________________________________________________________________"
   ]
  },
  {
   "cell_type": "code",
   "execution_count": null,
   "id": "83f4d3c2-5c34-49c1-9094-a44a3717468e",
   "metadata": {},
   "outputs": [],
   "source": []
  },
  {
   "cell_type": "code",
   "execution_count": 36,
   "id": "f8fdcf4b-3862-4993-9a7a-abfca1a1460f",
   "metadata": {},
   "outputs": [
    {
     "ename": "ValueError",
     "evalue": "All arguments should have the same length. The length of argument `hover_data_0` is 2, whereas the length of  previously-processed arguments ['names', 'values'] is 4",
     "output_type": "error",
     "traceback": [
      "\u001b[0;31m---------------------------------------------------------------------------\u001b[0m",
      "\u001b[0;31mValueError\u001b[0m                                Traceback (most recent call last)",
      "Cell \u001b[0;32mIn[36], line 13\u001b[0m\n\u001b[1;32m     10\u001b[0m hover_data \u001b[38;5;241m=\u001b[39m [{\u001b[38;5;124m\"\u001b[39m\u001b[38;5;124mlabel\u001b[39m\u001b[38;5;124m\"\u001b[39m: label, \u001b[38;5;124m\"\u001b[39m\u001b[38;5;124mvalue\u001b[39m\u001b[38;5;124m\"\u001b[39m: \u001b[38;5;124mf\u001b[39m\u001b[38;5;124m\"\u001b[39m\u001b[38;5;132;01m{\u001b[39;00mvalue\u001b[38;5;132;01m:\u001b[39;00m\u001b[38;5;124m.1f\u001b[39m\u001b[38;5;132;01m}\u001b[39;00m\u001b[38;5;124m%\u001b[39m\u001b[38;5;124m\"\u001b[39m} \u001b[38;5;28;01mfor\u001b[39;00m label, value \u001b[38;5;129;01min\u001b[39;00m \u001b[38;5;28mzip\u001b[39m(labels, values)]\n\u001b[1;32m     12\u001b[0m \u001b[38;5;66;03m# Create the pie chart with percentages\u001b[39;00m\n\u001b[0;32m---> 13\u001b[0m fig \u001b[38;5;241m=\u001b[39m \u001b[43mpx\u001b[49m\u001b[38;5;241;43m.\u001b[39;49m\u001b[43mpie\u001b[49m\u001b[43m(\u001b[49m\n\u001b[1;32m     14\u001b[0m \u001b[43m    \u001b[49m\u001b[43mvalues\u001b[49m\u001b[38;5;241;43m=\u001b[39;49m\u001b[43mvalues\u001b[49m\u001b[43m,\u001b[49m\n\u001b[1;32m     15\u001b[0m \u001b[43m    \u001b[49m\u001b[43mnames\u001b[49m\u001b[38;5;241;43m=\u001b[39;49m\u001b[43mlabels\u001b[49m\u001b[43m,\u001b[49m\n\u001b[1;32m     16\u001b[0m \u001b[43m    \u001b[49m\u001b[43mtitle\u001b[49m\u001b[38;5;241;43m=\u001b[39;49m\u001b[38;5;124;43m\"\u001b[39;49m\u001b[38;5;124;43mInteractive Pie Chart\u001b[39;49m\u001b[38;5;124;43m\"\u001b[39;49m\u001b[43m,\u001b[49m\n\u001b[1;32m     17\u001b[0m \u001b[43m    \u001b[49m\u001b[43mhover_data\u001b[49m\u001b[38;5;241;43m=\u001b[39;49m\u001b[43mhover_data\u001b[49m\n\u001b[1;32m     18\u001b[0m \u001b[43m)\u001b[49m  \u001b[38;5;66;03m# Pass the list of hover data dictionaries\u001b[39;00m\n\u001b[1;32m     20\u001b[0m \u001b[38;5;66;03m# Update layout for interactivity\u001b[39;00m\n\u001b[1;32m     21\u001b[0m fig\u001b[38;5;241m.\u001b[39mupdate_layout(\n\u001b[1;32m     22\u001b[0m     uniformtext_minsize\u001b[38;5;241m=\u001b[39m\u001b[38;5;241m12\u001b[39m,  \u001b[38;5;66;03m# Set minimum font size for labels\u001b[39;00m\n\u001b[1;32m     23\u001b[0m     uniformtext_mode\u001b[38;5;241m=\u001b[39m\u001b[38;5;124m\"\u001b[39m\u001b[38;5;124mhide\u001b[39m\u001b[38;5;124m\"\u001b[39m  \u001b[38;5;66;03m# Hide labels initially, show on hover\u001b[39;00m\n\u001b[1;32m     24\u001b[0m )\n",
      "File \u001b[0;32m/opt/conda/lib/python3.10/site-packages/plotly/express/_chart_types.py:1482\u001b[0m, in \u001b[0;36mpie\u001b[0;34m(data_frame, names, values, color, facet_row, facet_col, facet_col_wrap, facet_row_spacing, facet_col_spacing, color_discrete_sequence, color_discrete_map, hover_name, hover_data, custom_data, category_orders, labels, title, template, width, height, opacity, hole)\u001b[0m\n\u001b[1;32m   1480\u001b[0m \u001b[38;5;28;01melse\u001b[39;00m:\n\u001b[1;32m   1481\u001b[0m     layout_patch \u001b[38;5;241m=\u001b[39m {}\n\u001b[0;32m-> 1482\u001b[0m \u001b[38;5;28;01mreturn\u001b[39;00m \u001b[43mmake_figure\u001b[49m\u001b[43m(\u001b[49m\n\u001b[1;32m   1483\u001b[0m \u001b[43m    \u001b[49m\u001b[43margs\u001b[49m\u001b[38;5;241;43m=\u001b[39;49m\u001b[38;5;28;43mlocals\u001b[39;49m\u001b[43m(\u001b[49m\u001b[43m)\u001b[49m\u001b[43m,\u001b[49m\n\u001b[1;32m   1484\u001b[0m \u001b[43m    \u001b[49m\u001b[43mconstructor\u001b[49m\u001b[38;5;241;43m=\u001b[39;49m\u001b[43mgo\u001b[49m\u001b[38;5;241;43m.\u001b[39;49m\u001b[43mPie\u001b[49m\u001b[43m,\u001b[49m\n\u001b[1;32m   1485\u001b[0m \u001b[43m    \u001b[49m\u001b[43mtrace_patch\u001b[49m\u001b[38;5;241;43m=\u001b[39;49m\u001b[38;5;28;43mdict\u001b[39;49m\u001b[43m(\u001b[49m\u001b[43mshowlegend\u001b[49m\u001b[38;5;241;43m=\u001b[39;49m\u001b[43m(\u001b[49m\u001b[43mnames\u001b[49m\u001b[43m \u001b[49m\u001b[38;5;129;43;01mis\u001b[39;49;00m\u001b[43m \u001b[49m\u001b[38;5;129;43;01mnot\u001b[39;49;00m\u001b[43m \u001b[49m\u001b[38;5;28;43;01mNone\u001b[39;49;00m\u001b[43m)\u001b[49m\u001b[43m,\u001b[49m\u001b[43m \u001b[49m\u001b[43mhole\u001b[49m\u001b[38;5;241;43m=\u001b[39;49m\u001b[43mhole\u001b[49m\u001b[43m)\u001b[49m\u001b[43m,\u001b[49m\n\u001b[1;32m   1486\u001b[0m \u001b[43m    \u001b[49m\u001b[43mlayout_patch\u001b[49m\u001b[38;5;241;43m=\u001b[39;49m\u001b[43mlayout_patch\u001b[49m\u001b[43m,\u001b[49m\n\u001b[1;32m   1487\u001b[0m \u001b[43m\u001b[49m\u001b[43m)\u001b[49m\n",
      "File \u001b[0;32m/opt/conda/lib/python3.10/site-packages/plotly/express/_core.py:2090\u001b[0m, in \u001b[0;36mmake_figure\u001b[0;34m(args, constructor, trace_patch, layout_patch)\u001b[0m\n\u001b[1;32m   2087\u001b[0m layout_patch \u001b[38;5;241m=\u001b[39m layout_patch \u001b[38;5;129;01mor\u001b[39;00m {}\n\u001b[1;32m   2088\u001b[0m apply_default_cascade(args)\n\u001b[0;32m-> 2090\u001b[0m args \u001b[38;5;241m=\u001b[39m \u001b[43mbuild_dataframe\u001b[49m\u001b[43m(\u001b[49m\u001b[43margs\u001b[49m\u001b[43m,\u001b[49m\u001b[43m \u001b[49m\u001b[43mconstructor\u001b[49m\u001b[43m)\u001b[49m\n\u001b[1;32m   2091\u001b[0m \u001b[38;5;28;01mif\u001b[39;00m constructor \u001b[38;5;129;01min\u001b[39;00m [go\u001b[38;5;241m.\u001b[39mTreemap, go\u001b[38;5;241m.\u001b[39mSunburst, go\u001b[38;5;241m.\u001b[39mIcicle] \u001b[38;5;129;01mand\u001b[39;00m args[\u001b[38;5;124m\"\u001b[39m\u001b[38;5;124mpath\u001b[39m\u001b[38;5;124m\"\u001b[39m] \u001b[38;5;129;01mis\u001b[39;00m \u001b[38;5;129;01mnot\u001b[39;00m \u001b[38;5;28;01mNone\u001b[39;00m:\n\u001b[1;32m   2092\u001b[0m     args \u001b[38;5;241m=\u001b[39m process_dataframe_hierarchy(args)\n",
      "File \u001b[0;32m/opt/conda/lib/python3.10/site-packages/plotly/express/_core.py:1492\u001b[0m, in \u001b[0;36mbuild_dataframe\u001b[0;34m(args, constructor)\u001b[0m\n\u001b[1;32m   1489\u001b[0m     args[\u001b[38;5;124m\"\u001b[39m\u001b[38;5;124mcolor\u001b[39m\u001b[38;5;124m\"\u001b[39m] \u001b[38;5;241m=\u001b[39m \u001b[38;5;28;01mNone\u001b[39;00m\n\u001b[1;32m   1490\u001b[0m \u001b[38;5;66;03m# now that things have been prepped, we do the systematic rewriting of `args`\u001b[39;00m\n\u001b[0;32m-> 1492\u001b[0m df_output, wide_id_vars \u001b[38;5;241m=\u001b[39m \u001b[43mprocess_args_into_dataframe\u001b[49m\u001b[43m(\u001b[49m\n\u001b[1;32m   1493\u001b[0m \u001b[43m    \u001b[49m\u001b[43margs\u001b[49m\u001b[43m,\u001b[49m\u001b[43m \u001b[49m\u001b[43mwide_mode\u001b[49m\u001b[43m,\u001b[49m\u001b[43m \u001b[49m\u001b[43mvar_name\u001b[49m\u001b[43m,\u001b[49m\u001b[43m \u001b[49m\u001b[43mvalue_name\u001b[49m\n\u001b[1;32m   1494\u001b[0m \u001b[43m\u001b[49m\u001b[43m)\u001b[49m\n\u001b[1;32m   1496\u001b[0m \u001b[38;5;66;03m# now that `df_output` exists and `args` contains only references, we complete\u001b[39;00m\n\u001b[1;32m   1497\u001b[0m \u001b[38;5;66;03m# the special-case and wide-mode handling by further rewriting args and/or mutating\u001b[39;00m\n\u001b[1;32m   1498\u001b[0m \u001b[38;5;66;03m# df_output\u001b[39;00m\n\u001b[1;32m   1500\u001b[0m count_name \u001b[38;5;241m=\u001b[39m _escape_col_name(df_output, \u001b[38;5;124m\"\u001b[39m\u001b[38;5;124mcount\u001b[39m\u001b[38;5;124m\"\u001b[39m, [var_name, value_name])\n",
      "File \u001b[0;32m/opt/conda/lib/python3.10/site-packages/plotly/express/_core.py:1253\u001b[0m, in \u001b[0;36mprocess_args_into_dataframe\u001b[0;34m(args, wide_mode, var_name, value_name)\u001b[0m\n\u001b[1;32m   1250\u001b[0m         col_name \u001b[38;5;241m=\u001b[39m _check_name_not_reserved(field, reserved_names)\n\u001b[1;32m   1252\u001b[0m     \u001b[38;5;28;01mif\u001b[39;00m length \u001b[38;5;129;01mand\u001b[39;00m \u001b[38;5;28mlen\u001b[39m(argument) \u001b[38;5;241m!=\u001b[39m length:\n\u001b[0;32m-> 1253\u001b[0m         \u001b[38;5;28;01mraise\u001b[39;00m \u001b[38;5;167;01mValueError\u001b[39;00m(\n\u001b[1;32m   1254\u001b[0m             \u001b[38;5;124m\"\u001b[39m\u001b[38;5;124mAll arguments should have the same length. \u001b[39m\u001b[38;5;124m\"\u001b[39m\n\u001b[1;32m   1255\u001b[0m             \u001b[38;5;124m\"\u001b[39m\u001b[38;5;124mThe length of argument `\u001b[39m\u001b[38;5;132;01m%s\u001b[39;00m\u001b[38;5;124m` is \u001b[39m\u001b[38;5;132;01m%d\u001b[39;00m\u001b[38;5;124m, whereas the \u001b[39m\u001b[38;5;124m\"\u001b[39m\n\u001b[1;32m   1256\u001b[0m             \u001b[38;5;124m\"\u001b[39m\u001b[38;5;124mlength of  previously-processed arguments \u001b[39m\u001b[38;5;132;01m%s\u001b[39;00m\u001b[38;5;124m is \u001b[39m\u001b[38;5;132;01m%d\u001b[39;00m\u001b[38;5;124m\"\u001b[39m\n\u001b[1;32m   1257\u001b[0m             \u001b[38;5;241m%\u001b[39m (field, \u001b[38;5;28mlen\u001b[39m(argument), \u001b[38;5;28mstr\u001b[39m(\u001b[38;5;28mlist\u001b[39m(df_output\u001b[38;5;241m.\u001b[39mkeys())), length)\n\u001b[1;32m   1258\u001b[0m         )\n\u001b[1;32m   1259\u001b[0m     df_output[\u001b[38;5;28mstr\u001b[39m(col_name)] \u001b[38;5;241m=\u001b[39m to_unindexed_series(argument, \u001b[38;5;28mstr\u001b[39m(col_name))\n\u001b[1;32m   1261\u001b[0m \u001b[38;5;66;03m# Finally, update argument with column name now that column exists\u001b[39;00m\n",
      "\u001b[0;31mValueError\u001b[0m: All arguments should have the same length. The length of argument `hover_data_0` is 2, whereas the length of  previously-processed arguments ['names', 'values'] is 4"
     ]
    }
   ],
   "source": [
    "import plotly.express as px\n",
    "import random\n",
    "\n",
    "# Generate random data (ensure consistent length)\n",
    "num_slices = 4  # Adjust as needed\n",
    "labels = [\"Slice {}\".format(i) for i in range(1, num_slices + 1)]\n",
    "values = [random.randint(10, 30) for _ in range(num_slices)]\n",
    "\n",
    "# Create hover data list (one dictionary per slice)\n",
    "hover_data = [{\"label\": label, \"value\": f\"{value:.1f}%\"} for label, value in zip(labels, values)]\n",
    "\n",
    "# Create the pie chart with percentages\n",
    "fig = px.pie(\n",
    "    values=values,\n",
    "    names=labels,\n",
    "    title=\"Interactive Pie Chart\",\n",
    "    hover_data=hover_data\n",
    ")  # Pass the list of hover data dictionaries\n",
    "\n",
    "# Update layout for interactivity\n",
    "fig.update_layout(\n",
    "    uniformtext_minsize=12,  # Set minimum font size for labels\n",
    "    uniformtext_mode=\"hide\"  # Hide labels initially, show on hover\n",
    ")\n",
    "\n",
    "# Display the chart\n",
    "fig.show()\n"
   ]
  },
  {
   "cell_type": "code",
   "execution_count": null,
   "id": "1e7356e0-d4d7-4b3c-8d3b-267f36a15725",
   "metadata": {},
   "outputs": [],
   "source": []
  }
 ],
 "metadata": {
  "kernelspec": {
   "display_name": "Python 3 (ipykernel)",
   "language": "python",
   "name": "python3"
  },
  "language_info": {
   "codemirror_mode": {
    "name": "ipython",
    "version": 3
   },
   "file_extension": ".py",
   "mimetype": "text/x-python",
   "name": "python",
   "nbconvert_exporter": "python",
   "pygments_lexer": "ipython3",
   "version": "3.10.8"
  }
 },
 "nbformat": 4,
 "nbformat_minor": 5
}
